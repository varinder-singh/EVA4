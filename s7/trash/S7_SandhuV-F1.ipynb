{
 "cells": [
  {
   "cell_type": "code",
   "execution_count": 1,
   "metadata": {
    "colab": {},
    "colab_type": "code",
    "id": "QVbdg0z4poCc"
   },
   "outputs": [],
   "source": [
    "%matplotlib inline"
   ]
  },
  {
   "cell_type": "markdown",
   "metadata": {},
   "source": [
    "# ToDo :\n",
    "## Target : ```See the accuracy change within 40 epochs on Discrete convolution```\n",
    "##  Results :    ```Parameters: 98,960    Accuracy : 74%```\n",
    "## Analysis : ```4 Convolution layers and 3 MPs indicate that we want to see Edges&Gradients, Textures&Patterns, Parts Of Objects and Objects.```"
   ]
  },
  {
   "cell_type": "markdown",
   "metadata": {
    "colab_type": "text",
    "id": "fPogbueepoCh"
   },
   "source": [
    "\n",
    "Training a Classifier\n",
    "=====================\n",
    "\n",
    "This is it. You have seen how to define neural networks, compute loss and make\n",
    "updates to the weights of the network.\n",
    "\n",
    "Now you might be thinking,\n",
    "\n",
    "What about data?\n",
    "----------------\n",
    "\n",
    "Generally, when you have to deal with image, text, audio or video data,\n",
    "you can use standard python packages that load data into a numpy array.\n",
    "Then you can convert this array into a ``torch.*Tensor``.\n",
    "\n",
    "-  For images, packages such as Pillow, OpenCV are useful\n",
    "-  For audio, packages such as scipy and librosa\n",
    "-  For text, either raw Python or Cython based loading, or NLTK and\n",
    "   SpaCy are useful\n",
    "\n",
    "Specifically for vision, we have created a package called\n",
    "``torchvision``, that has data loaders for common datasets such as\n",
    "Imagenet, CIFAR10, MNIST, etc. and data transformers for images, viz.,\n",
    "``torchvision.datasets`` and ``torch.utils.data.DataLoader``.\n",
    "\n",
    "This provides a huge convenience and avoids writing boilerplate code.\n",
    "\n",
    "For this tutorial, we will use the CIFAR10 dataset.\n",
    "It has the classes: ‘airplane’, ‘automobile’, ‘bird’, ‘cat’, ‘deer’,\n",
    "‘dog’, ‘frog’, ‘horse’, ‘ship’, ‘truck’. The images in CIFAR-10 are of\n",
    "size 3x32x32, i.e. 3-channel color images of 32x32 pixels in size.\n",
    "\n",
    ".. figure:: /_static/img/cifar10.png\n",
    "   :alt: cifar10\n",
    "\n",
    "   cifar10\n",
    "\n",
    "\n",
    "Training an image classifier\n",
    "----------------------------\n",
    "\n",
    "We will do the following steps in order:\n",
    "\n",
    "1. Load and normalizing the CIFAR10 training and test datasets using\n",
    "   ``torchvision``\n",
    "2. Define a Convolution Neural Network\n",
    "3. Define a loss function\n",
    "4. Train the network on the training data\n",
    "5. Test the network on the test data\n",
    "\n",
    "1. Loading and normalizing CIFAR10\n",
    "^^^^^^^^^^^^^^^^^^^^^^^^^^^^^^^^^^\n",
    "\n",
    "Using ``torchvision``, it’s extremely easy to load CIFAR10.\n",
    "\n"
   ]
  },
  {
   "cell_type": "code",
   "execution_count": 2,
   "metadata": {
    "colab": {},
    "colab_type": "code",
    "id": "-yVpodAMpoCi"
   },
   "outputs": [],
   "source": [
    "import torch\n",
    "import torchvision\n",
    "import torchvision.transforms as transforms"
   ]
  },
  {
   "cell_type": "markdown",
   "metadata": {
    "colab_type": "text",
    "id": "5kjt4e2TpoCk"
   },
   "source": [
    "The output of torchvision datasets are PILImage images of range [0, 1].\n",
    "We transform them to Tensors of normalized range [-1, 1].\n",
    "\n"
   ]
  },
  {
   "cell_type": "code",
   "execution_count": 3,
   "metadata": {
    "colab": {
     "base_uri": "https://localhost:8080/",
     "height": 101,
     "referenced_widgets": [
      "8421fc373ff74ea78fe3a7d772a2f7a4",
      "e261ee11a675415da97ead25d9e9a2e1",
      "c091e5e5467f4fbb9c72343b2ae665fc",
      "b0b33ef3ad77446eb68b78616cb5309f",
      "a3f3a12c38e44876a789045da8051ab0",
      "66cffe7495cc47dc9d469042b75c16a8",
      "c2f76d84c7db44fb9c95d3277ef701ea",
      "02548c76a6e24ae080ad957c6ec6e778"
     ]
    },
    "colab_type": "code",
    "id": "D8Tjigo2poCl",
    "outputId": "4488bac3-3314-4665-df32-d003bb0ab92f"
   },
   "outputs": [
    {
     "name": "stdout",
     "output_type": "stream",
     "text": [
      "Files already downloaded and verified\n",
      "Files already downloaded and verified\n"
     ]
    }
   ],
   "source": [
    "transform = transforms.Compose(\n",
    "    [transforms.ToTensor(),\n",
    "     transforms.Normalize((0.5, 0.5, 0.5), (0.5, 0.5, 0.5))])\n",
    "\n",
    "trainset = torchvision.datasets.CIFAR10(root='./data', train=True,\n",
    "                                        download=True, transform=transform)\n",
    "\n",
    "\n",
    "testset = torchvision.datasets.CIFAR10(root='./data', train=False,\n",
    "                                       download=True, transform=transform)\n",
    "\n",
    "\n",
    "classes = ('plane', 'car', 'bird', 'cat',\n",
    "           'deer', 'dog', 'frog', 'horse', 'ship', 'truck')"
   ]
  },
  {
   "cell_type": "markdown",
   "metadata": {
    "colab_type": "text",
    "id": "QuUomIYbADLz"
   },
   "source": [
    "Code to check GPU availability"
   ]
  },
  {
   "cell_type": "code",
   "execution_count": 4,
   "metadata": {
    "colab": {
     "base_uri": "https://localhost:8080/",
     "height": 34
    },
    "colab_type": "code",
    "id": "5B5_uDAO_2oL",
    "outputId": "fa3f95f5-14b5-4c5b-fb9e-f1aa48062b20"
   },
   "outputs": [
    {
     "name": "stdout",
     "output_type": "stream",
     "text": [
      "Is CUDA available :  True\n"
     ]
    }
   ],
   "source": [
    "SEED = 1\n",
    "# Check if CUDA is available\n",
    "cuda = torch.cuda.is_available()\n",
    "print(\"Is CUDA available : \", cuda)\n",
    "\n",
    "torch.manual_seed(SEED)\n",
    "\n",
    "if cuda:\n",
    "  torch.cuda.manual_seed(SEED)\n",
    "\n",
    "# Data loader argumens for train and test\n",
    "dataloader_args = dict(shuffle=True, batch_size=128, num_workers=4, pin_memory=True) if cuda else dict(shuffle=True, batch_size=64)\n",
    "\n",
    "# Train loader\n",
    "trainloader = torch.utils.data.DataLoader(trainset, **dataloader_args)\n",
    "\n",
    "# Test loader\n",
    "testloader = torch.utils.data.DataLoader(testset, **dataloader_args)"
   ]
  },
  {
   "cell_type": "markdown",
   "metadata": {
    "colab_type": "text",
    "id": "_cj433rtpoCn"
   },
   "source": [
    "Let us show some of the training images, for fun.\n",
    "\n"
   ]
  },
  {
   "cell_type": "code",
   "execution_count": 5,
   "metadata": {
    "colab": {
     "base_uri": "https://localhost:8080/",
     "height": 286
    },
    "colab_type": "code",
    "id": "daA7bADhpoCo",
    "outputId": "45bf822e-7007-42cb-a0c7-99a8c5b2cfa6"
   },
   "outputs": [
    {
     "name": "stdout",
     "output_type": "stream",
     "text": [
      "plane   dog  deer  deer\n"
     ]
    },
    {
     "data": {
      "image/png": "[encoded data removed]",
      "text/plain": [
       "<Figure size 432x288 with 1 Axes>"
      ]
     },
     "metadata": {
      "needs_background": "light"
     },
     "output_type": "display_data"
    }
   ],
   "source": [
    "import matplotlib.pyplot as plt\n",
    "import numpy as np\n",
    "\n",
    "# functions to show an image\n",
    "\n",
    "\n",
    "def imshow(img):\n",
    "    img = img / 2 + 0.5     # unnormalize\n",
    "    npimg = img.numpy()\n",
    "    plt.imshow(np.transpose(npimg, (1, 2, 0)))\n",
    "\n",
    "\n",
    "# get some random training images\n",
    "dataiter = iter(trainloader)\n",
    "images, labels = dataiter.next()\n",
    "\n",
    "# show images\n",
    "imshow(torchvision.utils.make_grid(images))\n",
    "# print labels\n",
    "print(' '.join('%5s' % classes[labels[j]] for j in range(4)))"
   ]
  },
  {
   "cell_type": "markdown",
   "metadata": {
    "colab_type": "text",
    "id": "28OpHA_LpoCq"
   },
   "source": [
    "2. Define a Convolution Neural Network\n",
    "^^^^^^^^^^^^^^^^^^^^^^^^^^^^^^^^^^^^^^\n",
    "Copy the neural network from the Neural Networks section before and modify it to\n",
    "take 3-channel images (instead of 1-channel images as it was defined).\n",
    "\n"
   ]
  },
  {
   "cell_type": "code",
   "execution_count": 6,
   "metadata": {
    "colab": {},
    "colab_type": "code",
    "id": "0jjLwLLQpoCr"
   },
   "outputs": [],
   "source": [
    "import torch.nn as nn\n",
    "import torch.nn.functional as F\n",
    "\n",
    "\n",
    "class Net(nn.Module):\n",
    "    def __init__(self):\n",
    "        super(Net, self).__init__()\n",
    "        self.conv1 = nn.Sequential(nn.Conv2d(in_channels=3, out_channels=16, kernel_size=(3,3), padding=1, bias=False),\n",
    "                                   nn.ReLU(),\n",
    "                                  nn.BatchNorm2d(16))# Input=32x32x3 Output=32x32x8 RF=3x3\n",
    "        self.conv2 = nn.Sequential(nn.Conv2d(in_channels=16, out_channels=32, kernel_size=(3,3), padding=1, bias=False),\n",
    "                                   nn.ReLU(),\n",
    "                                  nn.BatchNorm2d(32))# Input=16x16x8 Output=16x16x16 RF=8x8\n",
    "        self.conv3 = nn.Sequential(nn.Conv2d(in_channels=32, out_channels=64, kernel_size=(3,3), padding=1, bias=False),\n",
    "                                   nn.ReLU(),\n",
    "                                  nn.BatchNorm2d(64))# Input=8x8x16 Output=8x8x32 RF=18x18\n",
    "        self.conv4 = nn.Sequential(nn.Conv2d(in_channels=64, out_channels=128, kernel_size=(3,3), padding=1, bias=False),\n",
    "                                   nn.ReLU(),\n",
    "                                  nn.BatchNorm2d(128))# Input=4x4x32 Output=4x4x64 RF=38x38\n",
    "        self.pool = nn.MaxPool2d(2, 2)\n",
    "        \n",
    "        self.gap = nn.Sequential(nn.AvgPool2d(kernel_size=4))\n",
    "        self.conv5 = nn.Sequential(nn.Conv2d(in_channels=128, out_channels=10, kernel_size=(1,1), padding=0, bias=False))\n",
    "\n",
    "    def forward(self, x):\n",
    "        x = self.pool(self.conv1(x))\n",
    "        x = self.pool(self.conv2(x))\n",
    "        x = self.pool(self.conv3(x))\n",
    "        x = self.conv4(x)\n",
    "        x = self.gap(x)\n",
    "        x = self.conv5(x)\n",
    "        x = x.view(-1, 10)\n",
    "        return x\n",
    "\n",
    "\n",
    "net = Net()"
   ]
  },
  {
   "cell_type": "code",
   "execution_count": 7,
   "metadata": {},
   "outputs": [
    {
     "name": "stdout",
     "output_type": "stream",
     "text": [
      "Defaulting to user installation because normal site-packages is not writeable\n",
      "Requirement already satisfied: torchsummary in /home/verito/.local/lib/python3.6/site-packages (1.5.1)\n",
      "cuda\n",
      "----------------------------------------------------------------\n",
      "        Layer (type)               Output Shape         Param #\n",
      "================================================================\n",
      "            Conv2d-1           [-1, 16, 32, 32]             432\n",
      "              ReLU-2           [-1, 16, 32, 32]               0\n",
      "       BatchNorm2d-3           [-1, 16, 32, 32]              32\n",
      "         MaxPool2d-4           [-1, 16, 16, 16]               0\n",
      "            Conv2d-5           [-1, 32, 16, 16]           4,608\n",
      "              ReLU-6           [-1, 32, 16, 16]               0\n",
      "       BatchNorm2d-7           [-1, 32, 16, 16]              64\n",
      "         MaxPool2d-8             [-1, 32, 8, 8]               0\n",
      "            Conv2d-9             [-1, 64, 8, 8]          18,432\n",
      "             ReLU-10             [-1, 64, 8, 8]               0\n",
      "      BatchNorm2d-11             [-1, 64, 8, 8]             128\n",
      "        MaxPool2d-12             [-1, 64, 4, 4]               0\n",
      "           Conv2d-13            [-1, 128, 4, 4]          73,728\n",
      "             ReLU-14            [-1, 128, 4, 4]               0\n",
      "      BatchNorm2d-15            [-1, 128, 4, 4]             256\n",
      "        AvgPool2d-16            [-1, 128, 1, 1]               0\n",
      "           Conv2d-17             [-1, 10, 1, 1]           1,280\n",
      "================================================================\n",
      "Total params: 98,960\n",
      "Trainable params: 98,960\n",
      "Non-trainable params: 0\n",
      "----------------------------------------------------------------\n",
      "Input size (MB): 0.01\n",
      "Forward/backward pass size (MB): 0.76\n",
      "Params size (MB): 0.38\n",
      "Estimated Total Size (MB): 1.15\n",
      "----------------------------------------------------------------\n"
     ]
    }
   ],
   "source": [
    "!pip install torchsummary\n",
    "from torchsummary import summary\n",
    "use_cuda = torch.cuda.is_available()\n",
    "device = torch.device(\"cuda\" if use_cuda else \"cpu\")\n",
    "print(device)\n",
    "model = Net().to(device)\n",
    "summary(model, input_size=(3, 32, 32))"
   ]
  },
  {
   "cell_type": "markdown",
   "metadata": {},
   "source": [
    "Method to Train Model"
   ]
  },
  {
   "cell_type": "code",
   "execution_count": 8,
   "metadata": {
    "colab": {
     "base_uri": "https://localhost:8080/",
     "height": 34
    },
    "colab_type": "code",
    "id": "kkuRfo1IpoC3",
    "outputId": "3ccfe950-e0e8-4e0c-c837-ed646080dcc3"
   },
   "outputs": [
    {
     "name": "stdout",
     "output_type": "stream",
     "text": [
      "Finished Training\n"
     ]
    }
   ],
   "source": [
    "from tqdm import tqdm\n",
    "\n",
    "train_losses = []\n",
    "train_acc = []\n",
    "def train(model, device, trainloader, optimizer, epoch, reg_type):\n",
    "    running_loss = 0.0\n",
    "    correct = 0\n",
    "    processed = 0\n",
    "    pbar = tqdm(trainloader)\n",
    "    for i, data in enumerate(pbar):\n",
    "        # get the inputs\n",
    "        inputs, labels = data\n",
    "\n",
    "        # zero the parameter gradients\n",
    "        optimizer.zero_grad()\n",
    "\n",
    "        # forward + backward + optimize\n",
    "        outputs = net(inputs)\n",
    "        loss = criterion(outputs, labels)\n",
    "        loss.backward()\n",
    "        optimizer.step()\n",
    "        # Update pbar tqdm \n",
    "        output = outputs.argmax(dim=1, keepdim=True)\n",
    "        correct += (output == labels).sum().item()\n",
    "        processed += len(inputs)\n",
    "        pbar.set_description(desc= f'Loss={loss.item()} Batch_id={i} Accuracy={100*correct/processed:0.2f}')\n",
    "\n",
    "print('Finished Training')"
   ]
  },
  {
   "cell_type": "markdown",
   "metadata": {},
   "source": [
    "Method to Test the Model"
   ]
  },
  {
   "cell_type": "code",
   "execution_count": 9,
   "metadata": {
    "colab": {
     "base_uri": "https://localhost:8080/",
     "height": 34
    },
    "colab_type": "code",
    "id": "SZ4-5CESpoDD",
    "outputId": "5237a4da-7caa-49a3-f872-ce8477567d1f"
   },
   "outputs": [],
   "source": [
    "test_losses = []\n",
    "test_acc = []\n",
    "def test(model, device, test_loader, reg_type):\n",
    "    correct = 0\n",
    "    total = 0\n",
    "    test_loss = 0\n",
    "    with torch.no_grad():\n",
    "        for data in testloader:\n",
    "            images, labels = data\n",
    "            outputs = net(images)\n",
    "            test_loss += F.nll_loss(outputs, labels, reduction='sum').item()\n",
    "            _, predicted = torch.max(outputs.data, 1)\n",
    "            total += labels.size(0)\n",
    "            correct += (predicted == labels).sum().item()\n",
    "    \n",
    "    test_losses.append(test_loss)\n",
    "    print('\\nTest Set: Average loss: {}, Accuracy: {}/{} ({:.2f}%)\\n'.format(test_loss, correct, len(testloader.dataset),\n",
    "                                                                        100. * correct / len(testloader.dataset)))\n",
    "    print('Accuracy of the network on the 10000 test images: %d %%' % (\n",
    "        100 * correct / total))"
   ]
  },
  {
   "cell_type": "markdown",
   "metadata": {
    "colab_type": "text",
    "id": "Wdw2NNCUpoCu"
   },
   "source": [
    "3. Define a Loss function and optimizer\n",
    "^^^^^^^^^^^^^^^^^^^^^^^^^^^^^^^^^^^^^^^\n",
    "Let's use a Classification Cross-Entropy loss and SGD with momentum.\n",
    "\n"
   ]
  },
  {
   "cell_type": "code",
   "execution_count": 10,
   "metadata": {
    "colab": {},
    "colab_type": "code",
    "id": "M4xBbDROpoCv"
   },
   "outputs": [
    {
     "name": "stderr",
     "output_type": "stream",
     "text": [
      "\r",
      "  0%|          | 0/391 [00:00<?, ?it/s]"
     ]
    },
    {
     "name": "stdout",
     "output_type": "stream",
     "text": [
      "EPOCH:  0\n"
     ]
    },
    {
     "name": "stderr",
     "output_type": "stream",
     "text": [
      "Loss=1.647446870803833 Batch_id=390 Accuracy=1289.32: 100%|██████████| 391/391 [00:46<00:00,  8.37it/s] \n",
      "  0%|          | 0/391 [00:00<?, ?it/s]"
     ]
    },
    {
     "name": "stdout",
     "output_type": "stream",
     "text": [
      "\n",
      "Test Set: Average loss: -16243.114891052246, Accuracy: 4651/10000 (46.51%)\n",
      "\n",
      "Accuracy of the network on the 10000 test images: 46 %\n",
      "EPOCH:  1\n"
     ]
    },
    {
     "name": "stderr",
     "output_type": "stream",
     "text": [
      "Loss=1.4737958908081055 Batch_id=390 Accuracy=1300.16: 100%|██████████| 391/391 [00:46<00:00,  8.40it/s]\n",
      "  0%|          | 0/391 [00:00<?, ?it/s]"
     ]
    },
    {
     "name": "stdout",
     "output_type": "stream",
     "text": [
      "\n",
      "Test Set: Average loss: -22224.29155731201, Accuracy: 5201/10000 (52.01%)\n",
      "\n",
      "Accuracy of the network on the 10000 test images: 52 %\n",
      "EPOCH:  2\n"
     ]
    },
    {
     "name": "stderr",
     "output_type": "stream",
     "text": [
      "Loss=1.3309375047683716 Batch_id=390 Accuracy=1306.04: 100%|██████████| 391/391 [00:46<00:00,  8.35it/s]\n",
      "  0%|          | 0/391 [00:00<?, ?it/s]"
     ]
    },
    {
     "name": "stdout",
     "output_type": "stream",
     "text": [
      "\n",
      "Test Set: Average loss: -26224.32571029663, Accuracy: 5663/10000 (56.63%)\n",
      "\n",
      "Accuracy of the network on the 10000 test images: 56 %\n",
      "EPOCH:  3\n"
     ]
    },
    {
     "name": "stderr",
     "output_type": "stream",
     "text": [
      "Loss=1.1334997415542603 Batch_id=390 Accuracy=1308.93: 100%|██████████| 391/391 [00:49<00:00,  7.85it/s]\n",
      "  0%|          | 0/391 [00:00<?, ?it/s]"
     ]
    },
    {
     "name": "stdout",
     "output_type": "stream",
     "text": [
      "\n",
      "Test Set: Average loss: -28598.16623687744, Accuracy: 5958/10000 (59.58%)\n",
      "\n",
      "Accuracy of the network on the 10000 test images: 59 %\n",
      "EPOCH:  4\n"
     ]
    },
    {
     "name": "stderr",
     "output_type": "stream",
     "text": [
      "Loss=1.000532865524292 Batch_id=390 Accuracy=1311.64: 100%|██████████| 391/391 [00:46<00:00,  8.35it/s] \n",
      "  0%|          | 0/391 [00:00<?, ?it/s]"
     ]
    },
    {
     "name": "stdout",
     "output_type": "stream",
     "text": [
      "\n",
      "Test Set: Average loss: -31057.035800933838, Accuracy: 6112/10000 (61.12%)\n",
      "\n",
      "Accuracy of the network on the 10000 test images: 61 %\n",
      "EPOCH:  5\n"
     ]
    },
    {
     "name": "stderr",
     "output_type": "stream",
     "text": [
      "Loss=1.0828659534454346 Batch_id=390 Accuracy=1312.42: 100%|██████████| 391/391 [00:47<00:00,  8.30it/s]\n",
      "  0%|          | 0/391 [00:00<?, ?it/s]"
     ]
    },
    {
     "name": "stdout",
     "output_type": "stream",
     "text": [
      "\n",
      "Test Set: Average loss: -33115.74932861328, Accuracy: 6424/10000 (64.24%)\n",
      "\n",
      "Accuracy of the network on the 10000 test images: 64 %\n",
      "EPOCH:  6\n"
     ]
    },
    {
     "name": "stderr",
     "output_type": "stream",
     "text": [
      "Loss=0.964846134185791 Batch_id=390 Accuracy=1318.87: 100%|██████████| 391/391 [00:47<00:00,  8.26it/s] \n",
      "  0%|          | 0/391 [00:00<?, ?it/s]"
     ]
    },
    {
     "name": "stdout",
     "output_type": "stream",
     "text": [
      "\n",
      "Test Set: Average loss: -35409.376331329346, Accuracy: 6515/10000 (65.15%)\n",
      "\n",
      "Accuracy of the network on the 10000 test images: 65 %\n",
      "EPOCH:  7\n"
     ]
    },
    {
     "name": "stderr",
     "output_type": "stream",
     "text": [
      "Loss=1.008794903755188 Batch_id=390 Accuracy=1318.83: 100%|██████████| 391/391 [00:45<00:00,  8.56it/s] \n",
      "  0%|          | 0/391 [00:00<?, ?it/s]"
     ]
    },
    {
     "name": "stdout",
     "output_type": "stream",
     "text": [
      "\n",
      "Test Set: Average loss: -36182.108379364014, Accuracy: 6600/10000 (66.00%)\n",
      "\n",
      "Accuracy of the network on the 10000 test images: 66 %\n",
      "EPOCH:  8\n"
     ]
    },
    {
     "name": "stderr",
     "output_type": "stream",
     "text": [
      "Loss=0.917881965637207 Batch_id=390 Accuracy=1321.24: 100%|██████████| 391/391 [00:47<00:00,  8.23it/s] \n",
      "  0%|          | 0/391 [00:00<?, ?it/s]"
     ]
    },
    {
     "name": "stdout",
     "output_type": "stream",
     "text": [
      "\n",
      "Test Set: Average loss: -38437.250202178955, Accuracy: 6733/10000 (67.33%)\n",
      "\n",
      "Accuracy of the network on the 10000 test images: 67 %\n",
      "EPOCH:  9\n"
     ]
    },
    {
     "name": "stderr",
     "output_type": "stream",
     "text": [
      "Loss=0.7725478410720825 Batch_id=390 Accuracy=1321.02: 100%|██████████| 391/391 [00:45<00:00,  8.51it/s]\n",
      "  0%|          | 0/391 [00:00<?, ?it/s]"
     ]
    },
    {
     "name": "stdout",
     "output_type": "stream",
     "text": [
      "\n",
      "Test Set: Average loss: -39246.015842437744, Accuracy: 6797/10000 (67.97%)\n",
      "\n",
      "Accuracy of the network on the 10000 test images: 67 %\n",
      "EPOCH:  10\n"
     ]
    },
    {
     "name": "stderr",
     "output_type": "stream",
     "text": [
      "Loss=0.909954845905304 Batch_id=390 Accuracy=1322.56: 100%|██████████| 391/391 [00:46<00:00,  8.38it/s] \n",
      "  0%|          | 0/391 [00:00<?, ?it/s]"
     ]
    },
    {
     "name": "stdout",
     "output_type": "stream",
     "text": [
      "\n",
      "Test Set: Average loss: -40408.578075408936, Accuracy: 6848/10000 (68.48%)\n",
      "\n",
      "Accuracy of the network on the 10000 test images: 68 %\n",
      "EPOCH:  11\n"
     ]
    },
    {
     "name": "stderr",
     "output_type": "stream",
     "text": [
      "Loss=0.7460127472877502 Batch_id=390 Accuracy=1322.52: 100%|██████████| 391/391 [00:46<00:00,  8.48it/s]\n",
      "  0%|          | 0/391 [00:00<?, ?it/s]"
     ]
    },
    {
     "name": "stdout",
     "output_type": "stream",
     "text": [
      "\n",
      "Test Set: Average loss: -41823.86512756348, Accuracy: 6970/10000 (69.70%)\n",
      "\n",
      "Accuracy of the network on the 10000 test images: 69 %\n",
      "EPOCH:  12\n"
     ]
    },
    {
     "name": "stderr",
     "output_type": "stream",
     "text": [
      "Loss=0.647110104560852 Batch_id=390 Accuracy=1321.92: 100%|██████████| 391/391 [00:46<00:00,  8.35it/s] \n",
      "  0%|          | 0/391 [00:00<?, ?it/s]"
     ]
    },
    {
     "name": "stdout",
     "output_type": "stream",
     "text": [
      "\n",
      "Test Set: Average loss: -42795.8371887207, Accuracy: 7010/10000 (70.10%)\n",
      "\n",
      "Accuracy of the network on the 10000 test images: 70 %\n",
      "EPOCH:  13\n"
     ]
    },
    {
     "name": "stderr",
     "output_type": "stream",
     "text": [
      "Loss=0.7945884466171265 Batch_id=390 Accuracy=1326.74: 100%|██████████| 391/391 [00:46<00:00,  8.38it/s]\n",
      "  0%|          | 0/391 [00:00<?, ?it/s]"
     ]
    },
    {
     "name": "stdout",
     "output_type": "stream",
     "text": [
      "\n",
      "Test Set: Average loss: -44103.9628868103, Accuracy: 7094/10000 (70.94%)\n",
      "\n",
      "Accuracy of the network on the 10000 test images: 70 %\n",
      "EPOCH:  14\n"
     ]
    },
    {
     "name": "stderr",
     "output_type": "stream",
     "text": [
      "Loss=0.8261297941207886 Batch_id=390 Accuracy=1328.00: 100%|██████████| 391/391 [00:46<00:00,  8.37it/s] \n",
      "  0%|          | 0/391 [00:00<?, ?it/s]"
     ]
    },
    {
     "name": "stdout",
     "output_type": "stream",
     "text": [
      "\n",
      "Test Set: Average loss: -45256.34378051758, Accuracy: 7144/10000 (71.44%)\n",
      "\n",
      "Accuracy of the network on the 10000 test images: 71 %\n",
      "EPOCH:  15\n"
     ]
    },
    {
     "name": "stderr",
     "output_type": "stream",
     "text": [
      "Loss=0.8429722785949707 Batch_id=390 Accuracy=1328.78: 100%|██████████| 391/391 [00:47<00:00,  8.22it/s] \n",
      "  0%|          | 0/391 [00:00<?, ?it/s]"
     ]
    },
    {
     "name": "stdout",
     "output_type": "stream",
     "text": [
      "\n",
      "Test Set: Average loss: -45299.61268615723, Accuracy: 7140/10000 (71.40%)\n",
      "\n",
      "Accuracy of the network on the 10000 test images: 71 %\n",
      "EPOCH:  16\n"
     ]
    },
    {
     "name": "stderr",
     "output_type": "stream",
     "text": [
      "Loss=0.675662636756897 Batch_id=390 Accuracy=1327.26: 100%|██████████| 391/391 [00:46<00:00,  8.43it/s]  \n",
      "  0%|          | 0/391 [00:00<?, ?it/s]"
     ]
    },
    {
     "name": "stdout",
     "output_type": "stream",
     "text": [
      "\n",
      "Test Set: Average loss: -46406.495765686035, Accuracy: 7198/10000 (71.98%)\n",
      "\n",
      "Accuracy of the network on the 10000 test images: 71 %\n",
      "EPOCH:  17\n"
     ]
    },
    {
     "name": "stderr",
     "output_type": "stream",
     "text": [
      "Loss=0.8141285181045532 Batch_id=390 Accuracy=1328.18: 100%|██████████| 391/391 [00:47<00:00,  8.27it/s] \n",
      "  0%|          | 0/391 [00:00<?, ?it/s]"
     ]
    },
    {
     "name": "stdout",
     "output_type": "stream",
     "text": [
      "\n",
      "Test Set: Average loss: -47429.23337554932, Accuracy: 7239/10000 (72.39%)\n",
      "\n",
      "Accuracy of the network on the 10000 test images: 72 %\n",
      "EPOCH:  18\n"
     ]
    },
    {
     "name": "stderr",
     "output_type": "stream",
     "text": [
      "Loss=0.7836883664131165 Batch_id=390 Accuracy=1328.05: 100%|██████████| 391/391 [00:45<00:00,  8.55it/s] \n",
      "  0%|          | 0/391 [00:00<?, ?it/s]"
     ]
    },
    {
     "name": "stdout",
     "output_type": "stream",
     "text": [
      "\n",
      "Test Set: Average loss: -48346.72215270996, Accuracy: 7243/10000 (72.43%)\n",
      "\n",
      "Accuracy of the network on the 10000 test images: 72 %\n",
      "EPOCH:  19\n"
     ]
    },
    {
     "name": "stderr",
     "output_type": "stream",
     "text": [
      "Loss=0.48730865120887756 Batch_id=390 Accuracy=1330.51: 100%|██████████| 391/391 [00:46<00:00,  8.33it/s]\n",
      "  0%|          | 0/391 [00:00<?, ?it/s]"
     ]
    },
    {
     "name": "stdout",
     "output_type": "stream",
     "text": [
      "\n",
      "Test Set: Average loss: -49260.78112792969, Accuracy: 7310/10000 (73.10%)\n",
      "\n",
      "Accuracy of the network on the 10000 test images: 73 %\n",
      "EPOCH:  20\n"
     ]
    },
    {
     "name": "stderr",
     "output_type": "stream",
     "text": [
      "Loss=0.778967022895813 Batch_id=390 Accuracy=1331.97: 100%|██████████| 391/391 [00:47<00:00,  8.31it/s]  \n",
      "  0%|          | 0/391 [00:00<?, ?it/s]"
     ]
    },
    {
     "name": "stdout",
     "output_type": "stream",
     "text": [
      "\n",
      "Test Set: Average loss: -50552.61721801758, Accuracy: 7305/10000 (73.05%)\n",
      "\n",
      "Accuracy of the network on the 10000 test images: 73 %\n",
      "EPOCH:  21\n"
     ]
    },
    {
     "name": "stderr",
     "output_type": "stream",
     "text": [
      "Loss=0.6187278628349304 Batch_id=390 Accuracy=1333.26: 100%|██████████| 391/391 [00:46<00:00,  8.45it/s] \n",
      "  0%|          | 0/391 [00:00<?, ?it/s]"
     ]
    },
    {
     "name": "stdout",
     "output_type": "stream",
     "text": [
      "\n",
      "Test Set: Average loss: -50758.82476043701, Accuracy: 7325/10000 (73.25%)\n",
      "\n",
      "Accuracy of the network on the 10000 test images: 73 %\n",
      "EPOCH:  22\n"
     ]
    },
    {
     "name": "stderr",
     "output_type": "stream",
     "text": [
      "Loss=0.5793746709823608 Batch_id=390 Accuracy=1329.90: 100%|██████████| 391/391 [00:46<00:00,  8.33it/s] \n",
      "  0%|          | 0/391 [00:00<?, ?it/s]"
     ]
    },
    {
     "name": "stdout",
     "output_type": "stream",
     "text": [
      "\n",
      "Test Set: Average loss: -51796.44609069824, Accuracy: 7374/10000 (73.74%)\n",
      "\n",
      "Accuracy of the network on the 10000 test images: 73 %\n",
      "EPOCH:  23\n"
     ]
    },
    {
     "name": "stderr",
     "output_type": "stream",
     "text": [
      "Loss=0.5973926186561584 Batch_id=390 Accuracy=1336.25: 100%|██████████| 391/391 [00:46<00:00,  8.41it/s] \n",
      "  0%|          | 0/391 [00:00<?, ?it/s]"
     ]
    },
    {
     "name": "stdout",
     "output_type": "stream",
     "text": [
      "\n",
      "Test Set: Average loss: -53066.768325805664, Accuracy: 7413/10000 (74.13%)\n",
      "\n",
      "Accuracy of the network on the 10000 test images: 74 %\n",
      "EPOCH:  24\n"
     ]
    },
    {
     "name": "stderr",
     "output_type": "stream",
     "text": [
      "Loss=0.5388506054878235 Batch_id=390 Accuracy=1335.29: 100%|██████████| 391/391 [00:46<00:00,  8.38it/s] \n",
      "  0%|          | 0/391 [00:00<?, ?it/s]"
     ]
    },
    {
     "name": "stdout",
     "output_type": "stream",
     "text": [
      "\n",
      "Test Set: Average loss: -53437.11573791504, Accuracy: 7362/10000 (73.62%)\n",
      "\n",
      "Accuracy of the network on the 10000 test images: 73 %\n",
      "EPOCH:  25\n"
     ]
    },
    {
     "name": "stderr",
     "output_type": "stream",
     "text": [
      "Loss=0.5790988206863403 Batch_id=390 Accuracy=1335.17: 100%|██████████| 391/391 [00:46<00:00,  8.33it/s] \n",
      "  0%|          | 0/391 [00:00<?, ?it/s]"
     ]
    },
    {
     "name": "stdout",
     "output_type": "stream",
     "text": [
      "\n",
      "Test Set: Average loss: -53803.55255126953, Accuracy: 7380/10000 (73.80%)\n",
      "\n",
      "Accuracy of the network on the 10000 test images: 73 %\n",
      "EPOCH:  26\n"
     ]
    },
    {
     "name": "stderr",
     "output_type": "stream",
     "text": [
      "Loss=0.639382004737854 Batch_id=390 Accuracy=1336.77: 100%|██████████| 391/391 [00:46<00:00,  8.49it/s]  \n",
      "  0%|          | 0/391 [00:00<?, ?it/s]"
     ]
    },
    {
     "name": "stdout",
     "output_type": "stream",
     "text": [
      "\n",
      "Test Set: Average loss: -54332.62868499756, Accuracy: 7395/10000 (73.95%)\n",
      "\n",
      "Accuracy of the network on the 10000 test images: 73 %\n",
      "EPOCH:  27\n"
     ]
    },
    {
     "name": "stderr",
     "output_type": "stream",
     "text": [
      "Loss=0.4814010560512543 Batch_id=390 Accuracy=1335.78: 100%|██████████| 391/391 [00:46<00:00,  8.39it/s] \n",
      "  0%|          | 0/391 [00:00<?, ?it/s]"
     ]
    },
    {
     "name": "stdout",
     "output_type": "stream",
     "text": [
      "\n",
      "Test Set: Average loss: -54557.89995574951, Accuracy: 7440/10000 (74.40%)\n",
      "\n",
      "Accuracy of the network on the 10000 test images: 74 %\n",
      "EPOCH:  28\n"
     ]
    },
    {
     "name": "stderr",
     "output_type": "stream",
     "text": [
      "Loss=0.5297771096229553 Batch_id=390 Accuracy=1337.99: 100%|██████████| 391/391 [00:46<00:00,  8.42it/s] \n",
      "  0%|          | 0/391 [00:00<?, ?it/s]"
     ]
    },
    {
     "name": "stdout",
     "output_type": "stream",
     "text": [
      "\n",
      "Test Set: Average loss: -55513.1524810791, Accuracy: 7453/10000 (74.53%)\n",
      "\n",
      "Accuracy of the network on the 10000 test images: 74 %\n",
      "EPOCH:  29\n"
     ]
    },
    {
     "name": "stderr",
     "output_type": "stream",
     "text": [
      "Loss=0.5710960626602173 Batch_id=390 Accuracy=1337.81: 100%|██████████| 391/391 [00:46<00:00,  8.40it/s] \n",
      "  0%|          | 0/391 [00:00<?, ?it/s]"
     ]
    },
    {
     "name": "stdout",
     "output_type": "stream",
     "text": [
      "\n",
      "Test Set: Average loss: -56716.222663879395, Accuracy: 7463/10000 (74.63%)\n",
      "\n",
      "Accuracy of the network on the 10000 test images: 74 %\n",
      "EPOCH:  30\n"
     ]
    },
    {
     "name": "stderr",
     "output_type": "stream",
     "text": [
      "Loss=0.2611169219017029 Batch_id=390 Accuracy=1337.34: 100%|██████████| 391/391 [00:46<00:00,  8.45it/s] \n",
      "  0%|          | 0/391 [00:00<?, ?it/s]"
     ]
    },
    {
     "name": "stdout",
     "output_type": "stream",
     "text": [
      "\n",
      "Test Set: Average loss: -57156.13986206055, Accuracy: 7464/10000 (74.64%)\n",
      "\n",
      "Accuracy of the network on the 10000 test images: 74 %\n",
      "EPOCH:  31\n"
     ]
    },
    {
     "name": "stderr",
     "output_type": "stream",
     "text": [
      "Loss=0.529496431350708 Batch_id=390 Accuracy=1341.72: 100%|██████████| 391/391 [00:46<00:00,  8.39it/s]  \n",
      "  0%|          | 0/391 [00:00<?, ?it/s]"
     ]
    },
    {
     "name": "stdout",
     "output_type": "stream",
     "text": [
      "\n",
      "Test Set: Average loss: -57492.415031433105, Accuracy: 7541/10000 (75.41%)\n",
      "\n",
      "Accuracy of the network on the 10000 test images: 75 %\n",
      "EPOCH:  32\n"
     ]
    },
    {
     "name": "stderr",
     "output_type": "stream",
     "text": [
      "Loss=0.47258609533309937 Batch_id=390 Accuracy=1337.52: 100%|██████████| 391/391 [00:46<00:00,  8.33it/s]\n",
      "  0%|          | 0/391 [00:00<?, ?it/s]"
     ]
    },
    {
     "name": "stdout",
     "output_type": "stream",
     "text": [
      "\n",
      "Test Set: Average loss: -58436.70851898193, Accuracy: 7473/10000 (74.73%)\n",
      "\n",
      "Accuracy of the network on the 10000 test images: 74 %\n",
      "EPOCH:  33\n"
     ]
    },
    {
     "name": "stderr",
     "output_type": "stream",
     "text": [
      "Loss=0.32536667585372925 Batch_id=390 Accuracy=1339.67: 100%|██████████| 391/391 [00:46<00:00,  8.43it/s]\n",
      "  0%|          | 0/391 [00:00<?, ?it/s]"
     ]
    },
    {
     "name": "stdout",
     "output_type": "stream",
     "text": [
      "\n",
      "Test Set: Average loss: -58798.70511627197, Accuracy: 7487/10000 (74.87%)\n",
      "\n",
      "Accuracy of the network on the 10000 test images: 74 %\n",
      "EPOCH:  34\n"
     ]
    },
    {
     "name": "stderr",
     "output_type": "stream",
     "text": [
      "Loss=0.3679574429988861 Batch_id=390 Accuracy=1342.37: 100%|██████████| 391/391 [00:46<00:00,  8.35it/s] \n",
      "  0%|          | 0/391 [00:00<?, ?it/s]"
     ]
    },
    {
     "name": "stdout",
     "output_type": "stream",
     "text": [
      "\n",
      "Test Set: Average loss: -58334.932052612305, Accuracy: 7405/10000 (74.05%)\n",
      "\n",
      "Accuracy of the network on the 10000 test images: 74 %\n",
      "EPOCH:  35\n"
     ]
    },
    {
     "name": "stderr",
     "output_type": "stream",
     "text": [
      "Loss=0.41949424147605896 Batch_id=390 Accuracy=1339.84: 100%|██████████| 391/391 [00:46<00:00,  8.33it/s]\n",
      "  0%|          | 0/391 [00:00<?, ?it/s]"
     ]
    },
    {
     "name": "stdout",
     "output_type": "stream",
     "text": [
      "\n",
      "Test Set: Average loss: -59688.526931762695, Accuracy: 7472/10000 (74.72%)\n",
      "\n",
      "Accuracy of the network on the 10000 test images: 74 %\n",
      "EPOCH:  36\n"
     ]
    },
    {
     "name": "stderr",
     "output_type": "stream",
     "text": [
      "Loss=0.3777272701263428 Batch_id=390 Accuracy=1341.42: 100%|██████████| 391/391 [00:46<00:00,  8.36it/s] \n",
      "  0%|          | 0/391 [00:00<?, ?it/s]"
     ]
    },
    {
     "name": "stdout",
     "output_type": "stream",
     "text": [
      "\n",
      "Test Set: Average loss: -60863.69738769531, Accuracy: 7487/10000 (74.87%)\n",
      "\n",
      "Accuracy of the network on the 10000 test images: 74 %\n",
      "EPOCH:  37\n"
     ]
    },
    {
     "name": "stderr",
     "output_type": "stream",
     "text": [
      "Loss=0.5016423463821411 Batch_id=390 Accuracy=1340.94: 100%|██████████| 391/391 [00:46<00:00,  8.36it/s] \n",
      "  0%|          | 0/391 [00:00<?, ?it/s]"
     ]
    },
    {
     "name": "stdout",
     "output_type": "stream",
     "text": [
      "\n",
      "Test Set: Average loss: -61163.38013458252, Accuracy: 7503/10000 (75.03%)\n",
      "\n",
      "Accuracy of the network on the 10000 test images: 75 %\n",
      "EPOCH:  38\n"
     ]
    },
    {
     "name": "stderr",
     "output_type": "stream",
     "text": [
      "Loss=0.44398266077041626 Batch_id=390 Accuracy=1339.76: 100%|██████████| 391/391 [00:46<00:00,  8.42it/s]\n",
      "  0%|          | 0/391 [00:00<?, ?it/s]"
     ]
    },
    {
     "name": "stdout",
     "output_type": "stream",
     "text": [
      "\n",
      "Test Set: Average loss: -62440.27219390869, Accuracy: 7545/10000 (75.45%)\n",
      "\n",
      "Accuracy of the network on the 10000 test images: 75 %\n",
      "EPOCH:  39\n"
     ]
    },
    {
     "name": "stderr",
     "output_type": "stream",
     "text": [
      "Loss=0.2674274742603302 Batch_id=390 Accuracy=1345.50: 100%|██████████| 391/391 [00:46<00:00,  8.36it/s] \n"
     ]
    },
    {
     "name": "stdout",
     "output_type": "stream",
     "text": [
      "\n",
      "Test Set: Average loss: -62281.96817779541, Accuracy: 7530/10000 (75.30%)\n",
      "\n",
      "Accuracy of the network on the 10000 test images: 75 %\n"
     ]
    }
   ],
   "source": [
    "import torch.optim as optim\n",
    "\n",
    "criterion = nn.CrossEntropyLoss()\n",
    "optimizer = optim.SGD(net.parameters(), lr=0.001, momentum=0.9)\n",
    "EPOCHS = 40\n",
    "for epoch in range(EPOCHS):  # loop over the dataset multiple times\n",
    "    print(\"EPOCH: \", epoch)\n",
    "    train(net, 'gpu', trainloader, optimizer, epoch, 'l1')\n",
    "    test(net, 'gpu', testloader, 'l1')\n",
    "    "
   ]
  },
  {
   "cell_type": "markdown",
   "metadata": {
    "colab_type": "text",
    "id": "YLrvL_fHpoC5"
   },
   "source": [
    "5. We have trained the network for 2 passes over the training dataset.\n",
    "But we need to check if the network has learnt anything at all.\n",
    "\n",
    "We will check this by predicting the class label that the neural network\n",
    "outputs, and checking it against the ground-truth. If the prediction is\n",
    "correct, we add the sample to the list of correct predictions.\n",
    "\n",
    "Okay, first step. Let us display an image from the test set to get familiar.\n",
    "\n"
   ]
  },
  {
   "cell_type": "code",
   "execution_count": 11,
   "metadata": {
    "colab": {
     "base_uri": "https://localhost:8080/",
     "height": 286
    },
    "colab_type": "code",
    "id": "nizbsvw9poC6",
    "outputId": "b68d31be-6feb-4a77-8d93-75563a9968cb"
   },
   "outputs": [
    {
     "name": "stdout",
     "output_type": "stream",
     "text": [
      "GroundTruth:   frog  ship  deer horse\n"
     ]
    },
    {
     "data": {
      "image/png": "[encoded data removed]",
      "text/plain": [
       "<Figure size 432x288 with 1 Axes>"
      ]
     },
     "metadata": {
      "needs_background": "light"
     },
     "output_type": "display_data"
    }
   ],
   "source": [
    "dataiter = iter(testloader)\n",
    "images, labels = dataiter.next()\n",
    "\n",
    "# print images\n",
    "imshow(torchvision.utils.make_grid(images))\n",
    "print('GroundTruth: ', ' '.join('%5s' % classes[labels[j]] for j in range(4)))"
   ]
  },
  {
   "cell_type": "markdown",
   "metadata": {
    "colab_type": "text",
    "id": "DAx4QPHVpoC8"
   },
   "source": [
    "Okay, now let us see what the neural network thinks these examples above are:\n",
    "\n"
   ]
  },
  {
   "cell_type": "code",
   "execution_count": 12,
   "metadata": {
    "colab": {},
    "colab_type": "code",
    "id": "HVLjlssWpoC9"
   },
   "outputs": [],
   "source": [
    "outputs = net(images)"
   ]
  },
  {
   "cell_type": "markdown",
   "metadata": {
    "colab_type": "text",
    "id": "u8OTHZEApoC_"
   },
   "source": [
    "The outputs are energies for the 10 classes.\n",
    "Higher the energy for a class, the more the network\n",
    "thinks that the image is of the particular class.\n",
    "So, let's get the index of the highest energy:\n",
    "\n"
   ]
  },
  {
   "cell_type": "code",
   "execution_count": 13,
   "metadata": {
    "colab": {
     "base_uri": "https://localhost:8080/",
     "height": 34
    },
    "colab_type": "code",
    "id": "ABRIDW3lpoDA",
    "outputId": "40eaec5b-60b3-4978-c573-f735218cfcf5"
   },
   "outputs": [
    {
     "name": "stdout",
     "output_type": "stream",
     "text": [
      "Predicted:   frog  ship  deer horse\n"
     ]
    }
   ],
   "source": [
    "_, predicted = torch.max(outputs, 1)\n",
    "\n",
    "print('Predicted: ', ' '.join('%5s' % classes[predicted[j]]\n",
    "                              for j in range(4)))"
   ]
  },
  {
   "cell_type": "markdown",
   "metadata": {
    "colab_type": "text",
    "id": "2TV0TXL1poDC"
   },
   "source": [
    "The results seem pretty good.\n",
    "\n",
    "Let us look at how the network performs on the whole dataset.\n",
    "\n"
   ]
  },
  {
   "cell_type": "markdown",
   "metadata": {
    "colab_type": "text",
    "id": "eDdwPBl8poDF"
   },
   "source": [
    "That looks waaay better than chance, which is 10% accuracy (randomly picking\n",
    "a class out of 10 classes).\n",
    "Seems like the network learnt something.\n",
    "\n",
    "Hmmm, what are the classes that performed well, and the classes that did\n",
    "not perform well:\n",
    "\n"
   ]
  },
  {
   "cell_type": "code",
   "execution_count": 14,
   "metadata": {
    "colab": {
     "base_uri": "https://localhost:8080/",
     "height": 191
    },
    "colab_type": "code",
    "id": "pDNFuDEDpoDG",
    "outputId": "b459ad26-eaf2-4fb3-82fe-c40520bf9c87"
   },
   "outputs": [
    {
     "name": "stdout",
     "output_type": "stream",
     "text": [
      "Accuracy of plane : 72 %\n",
      "Accuracy of   car : 83 %\n",
      "Accuracy of  bird : 70 %\n",
      "Accuracy of   cat : 58 %\n",
      "Accuracy of  deer : 67 %\n",
      "Accuracy of   dog : 72 %\n",
      "Accuracy of  frog : 80 %\n",
      "Accuracy of horse : 66 %\n",
      "Accuracy of  ship : 81 %\n",
      "Accuracy of truck : 84 %\n"
     ]
    }
   ],
   "source": [
    "class_correct = list(0. for i in range(10))\n",
    "class_total = list(0. for i in range(10))\n",
    "with torch.no_grad():\n",
    "    for data in testloader:\n",
    "        images, labels = data\n",
    "        outputs = net(images)\n",
    "        _, predicted = torch.max(outputs, 1)\n",
    "        c = (predicted == labels).squeeze()\n",
    "        for i in range(4):\n",
    "            label = labels[i]\n",
    "            class_correct[label] += c[i].item()\n",
    "            class_total[label] += 1\n",
    "\n",
    "\n",
    "for i in range(10):\n",
    "    print('Accuracy of %5s : %2d %%' % (\n",
    "        classes[i], 100 * class_correct[i] / class_total[i]))"
   ]
  },
  {
   "cell_type": "code",
   "execution_count": null,
   "metadata": {},
   "outputs": [],
   "source": []
  }
 ],
 "metadata": {
  "accelerator": "GPU",
  "colab": {
   "collapsed_sections": [],
   "name": "S7-SandhuV.ipynb",
   "provenance": []
  },
  "kernelspec": {
   "display_name": "Python 3",
   "language": "python",
   "name": "python3"
  },
  "language_info": {
   "codemirror_mode": {
    "name": "ipython",
    "version": 3
   },
   "file_extension": ".py",
   "mimetype": "text/x-python",
   "name": "python",
   "nbconvert_exporter": "python",
   "pygments_lexer": "ipython3",
   "version": "3.6.9"
  },
  "widgets": {
   "application/vnd.jupyter.widget-state+json": {
    "02548c76a6e24ae080ad957c6ec6e778": {
     "model_module": "@jupyter-widgets/base",
     "model_name": "LayoutModel",
     "state": {
      "_model_module": "@jupyter-widgets/base",
      "_model_module_version": "1.2.0",
      "_model_name": "LayoutModel",
      "_view_count": null,
      "_view_module": "@jupyter-widgets/base",
      "_view_module_version": "1.2.0",
      "_view_name": "LayoutView",
      "align_content": null,
      "align_items": null,
      "align_self": null,
      "border": null,
      "bottom": null,
      "display": null,
      "flex": null,
      "flex_flow": null,
      "grid_area": null,
      "grid_auto_columns": null,
      "grid_auto_flow": null,
      "grid_auto_rows": null,
      "grid_column": null,
      "grid_gap": null,
      "grid_row": null,
      "grid_template_areas": null,
      "grid_template_columns": null,
      "grid_template_rows": null,
      "height": null,
      "justify_content": null,
      "justify_items": null,
      "left": null,
      "margin": null,
      "max_height": null,
      "max_width": null,
      "min_height": null,
      "min_width": null,
      "object_fit": null,
      "object_position": null,
      "order": null,
      "overflow": null,
      "overflow_x": null,
      "overflow_y": null,
      "padding": null,
      "right": null,
      "top": null,
      "visibility": null,
      "width": null
     }
    },
    "66cffe7495cc47dc9d469042b75c16a8": {
     "model_module": "@jupyter-widgets/base",
     "model_name": "LayoutModel",
     "state": {
      "_model_module": "@jupyter-widgets/base",
      "_model_module_version": "1.2.0",
      "_model_name": "LayoutModel",
      "_view_count": null,
      "_view_module": "@jupyter-widgets/base",
      "_view_module_version": "1.2.0",
      "_view_name": "LayoutView",
      "align_content": null,
      "align_items": null,
      "align_self": null,
      "border": null,
      "bottom": null,
      "display": null,
      "flex": null,
      "flex_flow": null,
      "grid_area": null,
      "grid_auto_columns": null,
      "grid_auto_flow": null,
      "grid_auto_rows": null,
      "grid_column": null,
      "grid_gap": null,
      "grid_row": null,
      "grid_template_areas": null,
      "grid_template_columns": null,
      "grid_template_rows": null,
      "height": null,
      "justify_content": null,
      "justify_items": null,
      "left": null,
      "margin": null,
      "max_height": null,
      "max_width": null,
      "min_height": null,
      "min_width": null,
      "object_fit": null,
      "object_position": null,
      "order": null,
      "overflow": null,
      "overflow_x": null,
      "overflow_y": null,
      "padding": null,
      "right": null,
      "top": null,
      "visibility": null,
      "width": null
     }
    },
    "8421fc373ff74ea78fe3a7d772a2f7a4": {
     "model_module": "@jupyter-widgets/controls",
     "model_name": "HBoxModel",
     "state": {
      "_dom_classes": [],
      "_model_module": "@jupyter-widgets/controls",
      "_model_module_version": "1.5.0",
      "_model_name": "HBoxModel",
      "_view_count": null,
      "_view_module": "@jupyter-widgets/controls",
      "_view_module_version": "1.5.0",
      "_view_name": "HBoxView",
      "box_style": "",
      "children": [
       "IPY_MODEL_c091e5e5467f4fbb9c72343b2ae665fc",
       "IPY_MODEL_b0b33ef3ad77446eb68b78616cb5309f"
      ],
      "layout": "IPY_MODEL_e261ee11a675415da97ead25d9e9a2e1"
     }
    },
    "a3f3a12c38e44876a789045da8051ab0": {
     "model_module": "@jupyter-widgets/controls",
     "model_name": "ProgressStyleModel",
     "state": {
      "_model_module": "@jupyter-widgets/controls",
      "_model_module_version": "1.5.0",
      "_model_name": "ProgressStyleModel",
      "_view_count": null,
      "_view_module": "@jupyter-widgets/base",
      "_view_module_version": "1.2.0",
      "_view_name": "StyleView",
      "bar_color": null,
      "description_width": ""
     }
    },
    "b0b33ef3ad77446eb68b78616cb5309f": {
     "model_module": "@jupyter-widgets/controls",
     "model_name": "HTMLModel",
     "state": {
      "_dom_classes": [],
      "_model_module": "@jupyter-widgets/controls",
      "_model_module_version": "1.5.0",
      "_model_name": "HTMLModel",
      "_view_count": null,
      "_view_module": "@jupyter-widgets/controls",
      "_view_module_version": "1.5.0",
      "_view_name": "HTMLView",
      "description": "",
      "description_tooltip": null,
      "layout": "IPY_MODEL_02548c76a6e24ae080ad957c6ec6e778",
      "placeholder": "​",
      "style": "IPY_MODEL_c2f76d84c7db44fb9c95d3277ef701ea",
      "value": "170500096it [00:30, 14815331.69it/s]"
     }
    },
    "c091e5e5467f4fbb9c72343b2ae665fc": {
     "model_module": "@jupyter-widgets/controls",
     "model_name": "IntProgressModel",
     "state": {
      "_dom_classes": [],
      "_model_module": "@jupyter-widgets/controls",
      "_model_module_version": "1.5.0",
      "_model_name": "IntProgressModel",
      "_view_count": null,
      "_view_module": "@jupyter-widgets/controls",
      "_view_module_version": "1.5.0",
      "_view_name": "ProgressView",
      "bar_style": "info",
      "description": "",
      "description_tooltip": null,
      "layout": "IPY_MODEL_66cffe7495cc47dc9d469042b75c16a8",
      "max": 1,
      "min": 0,
      "orientation": "horizontal",
      "style": "IPY_MODEL_a3f3a12c38e44876a789045da8051ab0",
      "value": 1
     }
    },
    "c2f76d84c7db44fb9c95d3277ef701ea": {
     "model_module": "@jupyter-widgets/controls",
     "model_name": "DescriptionStyleModel",
     "state": {
      "_model_module": "@jupyter-widgets/controls",
      "_model_module_version": "1.5.0",
      "_model_name": "DescriptionStyleModel",
      "_view_count": null,
      "_view_module": "@jupyter-widgets/base",
      "_view_module_version": "1.2.0",
      "_view_name": "StyleView",
      "description_width": ""
     }
    },
    "e261ee11a675415da97ead25d9e9a2e1": {
     "model_module": "@jupyter-widgets/base",
     "model_name": "LayoutModel",
     "state": {
      "_model_module": "@jupyter-widgets/base",
      "_model_module_version": "1.2.0",
      "_model_name": "LayoutModel",
      "_view_count": null,
      "_view_module": "@jupyter-widgets/base",
      "_view_module_version": "1.2.0",
      "_view_name": "LayoutView",
      "align_content": null,
      "align_items": null,
      "align_self": null,
      "border": null,
      "bottom": null,
      "display": null,
      "flex": null,
      "flex_flow": null,
      "grid_area": null,
      "grid_auto_columns": null,
      "grid_auto_flow": null,
      "grid_auto_rows": null,
      "grid_column": null,
      "grid_gap": null,
      "grid_row": null,
      "grid_template_areas": null,
      "grid_template_columns": null,
      "grid_template_rows": null,
      "height": null,
      "justify_content": null,
      "justify_items": null,
      "left": null,
      "margin": null,
      "max_height": null,
      "max_width": null,
      "min_height": null,
      "min_width": null,
      "object_fit": null,
      "object_position": null,
      "order": null,
      "overflow": null,
      "overflow_x": null,
      "overflow_y": null,
      "padding": null,
      "right": null,
      "top": null,
      "visibility": null,
      "width": null
     }
    }
   }
  }
 },
 "nbformat": 4,
 "nbformat_minor": 1
}
