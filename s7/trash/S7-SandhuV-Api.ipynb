{
 "cells": [
  {
   "cell_type": "code",
   "execution_count": 1,
   "metadata": {},
   "outputs": [],
   "source": [
    "%matplotlib inline"
   ]
  },
  {
   "cell_type": "code",
   "execution_count": 2,
   "metadata": {},
   "outputs": [],
   "source": [
    "import torch\n",
    "import torch.nn as nn\n",
    "import torch.nn.functional as F"
   ]
  },
  {
   "cell_type": "code",
   "execution_count": 3,
   "metadata": {},
   "outputs": [
    {
     "name": "stdout",
     "output_type": "stream",
     "text": [
      "Files already downloaded and verified\n",
      "Files already downloaded and verified\n",
      "Is CUDA available:  True\n"
     ]
    }
   ],
   "source": [
    "import dataloader\n",
    "\n",
    "trainloader,testloader=dataloader.loadCiFAR10()\n"
   ]
  },
  {
   "cell_type": "code",
   "execution_count": 4,
   "metadata": {},
   "outputs": [
    {
     "name": "stdout",
     "output_type": "stream",
     "text": [
      "Defaulting to user installation because normal site-packages is not writeable\n",
      "Requirement already satisfied: torchsummary in /home/verito/.local/lib/python3.6/site-packages (1.5.1)\n",
      "cuda\n",
      "----------------------------------------------------------------\n",
      "        Layer (type)               Output Shape         Param #\n",
      "================================================================\n",
      "            Conv2d-1           [-1, 32, 32, 32]             864\n",
      "              ReLU-2           [-1, 32, 32, 32]               0\n",
      "       BatchNorm2d-3           [-1, 32, 32, 32]              64\n",
      "            Conv2d-4           [-1, 32, 32, 32]           9,216\n",
      "              ReLU-5           [-1, 32, 32, 32]               0\n",
      "       BatchNorm2d-6           [-1, 32, 32, 32]              64\n",
      "         Dropout2d-7           [-1, 32, 32, 32]               0\n",
      "         MaxPool2d-8           [-1, 32, 16, 16]               0\n",
      "            Conv2d-9           [-1, 64, 16, 16]          18,432\n",
      "             ReLU-10           [-1, 64, 16, 16]               0\n",
      "      BatchNorm2d-11           [-1, 64, 16, 16]             128\n",
      "           Conv2d-12           [-1, 64, 16, 16]          36,864\n",
      "             ReLU-13           [-1, 64, 16, 16]               0\n",
      "      BatchNorm2d-14           [-1, 64, 16, 16]             128\n",
      "        Dropout2d-15           [-1, 64, 16, 16]               0\n",
      "        MaxPool2d-16             [-1, 64, 8, 8]               0\n",
      "           Conv2d-17            [-1, 128, 8, 8]          73,728\n",
      "             ReLU-18            [-1, 128, 8, 8]               0\n",
      "      BatchNorm2d-19            [-1, 128, 8, 8]             256\n",
      "           Conv2d-20            [-1, 128, 8, 8]         147,456\n",
      "             ReLU-21            [-1, 128, 8, 8]               0\n",
      "      BatchNorm2d-22            [-1, 128, 8, 8]             256\n",
      "        Dropout2d-23            [-1, 128, 8, 8]               0\n",
      "        MaxPool2d-24            [-1, 128, 4, 4]               0\n",
      "           Conv2d-25            [-1, 128, 4, 4]           1,152\n",
      "             ReLU-26            [-1, 128, 4, 4]               0\n",
      "      BatchNorm2d-27            [-1, 128, 4, 4]             256\n",
      "           Conv2d-28            [-1, 256, 4, 4]          32,768\n",
      "             ReLU-29            [-1, 256, 4, 4]               0\n",
      "      BatchNorm2d-30            [-1, 256, 4, 4]             512\n",
      "           Conv2d-31            [-1, 256, 4, 4]           2,304\n",
      "             ReLU-32            [-1, 256, 4, 4]               0\n",
      "      BatchNorm2d-33            [-1, 256, 4, 4]             512\n",
      "           Conv2d-34            [-1, 512, 4, 4]         131,072\n",
      "             ReLU-35            [-1, 512, 4, 4]               0\n",
      "      BatchNorm2d-36            [-1, 512, 4, 4]           1,024\n",
      "        Dropout2d-37            [-1, 512, 4, 4]               0\n",
      "        AvgPool2d-38            [-1, 512, 1, 1]               0\n",
      "           Conv2d-39             [-1, 10, 1, 1]           5,120\n",
      "================================================================\n",
      "Total params: 462,176\n",
      "Trainable params: 462,176\n",
      "Non-trainable params: 0\n",
      "----------------------------------------------------------------\n",
      "Input size (MB): 0.01\n",
      "Forward/backward pass size (MB): 3.66\n",
      "Params size (MB): 1.76\n",
      "Estimated Total Size (MB): 5.44\n",
      "----------------------------------------------------------------\n"
     ]
    }
   ],
   "source": [
    "from model import Net\n",
    "!pip install torchsummary\n",
    "from torchsummary import summary\n",
    "use_cuda = torch.cuda.is_available()\n",
    "device = torch.device(\"cuda\" if use_cuda else \"cpu\")\n",
    "print(device)\n",
    "mymodel = Net().to(device)\n",
    "summary(mymodel, input_size=(3, 32, 32))"
   ]
  },
  {
   "cell_type": "code",
   "execution_count": null,
   "metadata": {},
   "outputs": [
    {
     "name": "stderr",
     "output_type": "stream",
     "text": [
      "\r",
      "  0%|          | 0/391 [00:00<?, ?it/s]"
     ]
    },
    {
     "name": "stdout",
     "output_type": "stream",
     "text": [
      "Finished Training\n",
      "EPOCH:  0\n"
     ]
    },
    {
     "name": "stderr",
     "output_type": "stream",
     "text": [
      "Loss=1.8856099843978882 Batch_id=238 Accuracy=24.44:  61%|██████    | 239/391 [03:16<10:31,  4.16s/it]"
     ]
    }
   ],
   "source": [
    "import train, test\n",
    "\n",
    "\n",
    "net = Net()\n",
    "\n",
    "EPOCHS = 1\n",
    "for epoch in range(EPOCHS):  # loop over the dataset multiple times\n",
    "    print(\"EPOCH: \", epoch)\n",
    "    try:\n",
    "        train.train(net, device, trainloader, epoch, 'l1')\n",
    "        test.test(net, device, testloader, 'l1')\n",
    "    \n",
    "    except AttributeError:\n",
    "        print(\"Attribute not found\")\n",
    "    "
   ]
  },
  {
   "cell_type": "code",
   "execution_count": null,
   "metadata": {},
   "outputs": [],
   "source": []
  },
  {
   "cell_type": "code",
   "execution_count": null,
   "metadata": {},
   "outputs": [],
   "source": []
  }
 ],
 "metadata": {
  "kernelspec": {
   "display_name": "Python 3",
   "language": "python",
   "name": "python3"
  },
  "language_info": {
   "codemirror_mode": {
    "name": "ipython",
    "version": 3
   },
   "file_extension": ".py",
   "mimetype": "text/x-python",
   "name": "python",
   "nbconvert_exporter": "python",
   "pygments_lexer": "ipython3",
   "version": "3.6.9"
  }
 },
 "nbformat": 4,
 "nbformat_minor": 4
}
