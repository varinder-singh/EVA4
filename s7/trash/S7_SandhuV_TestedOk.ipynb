{
  "nbformat": 4,
  "nbformat_minor": 0,
  "metadata": {
    "accelerator": "GPU",
    "colab": {
      "name": "S7_SandhuV-TestedOk.ipynb",
      "provenance": [],
      "collapsed_sections": []
    },
    "kernelspec": {
      "display_name": "Python 3",
      "language": "python",
      "name": "python3"
    },
    "language_info": {
      "codemirror_mode": {
        "name": "ipython",
        "version": 3
      },
      "file_extension": ".py",
      "mimetype": "text/x-python",
      "name": "python",
      "nbconvert_exporter": "python",
      "pygments_lexer": "ipython3",
      "version": "3.6.9"
    }
  },
  "cells": [
    {
      "cell_type": "code",
      "metadata": {
        "colab_type": "code",
        "id": "QVbdg0z4poCc",
        "colab": {}
      },
      "source": [
        "%matplotlib inline"
      ],
      "execution_count": 0,
      "outputs": []
    },
    {
      "cell_type": "markdown",
      "metadata": {
        "id": "A2CZgf87GgLL",
        "colab_type": "text"
      },
      "source": [
        "# ToDo :\n",
        "## Target : ```See the accuracy change within 40 epochs on Dilated+Depthwise+Separable convolution and RF more than 44```\n",
        "##  Results :    ```Parameters: 98,960    Accuracy : 74%```\n",
        "## Analysis : ```4 Convolution layers and 3 MPs indicate that we want to see Edges&Gradients, Textures&Patterns, Parts Of Objects and Objects.```"
      ]
    },
    {
      "cell_type": "markdown",
      "metadata": {
        "colab_type": "text",
        "id": "fPogbueepoCh"
      },
      "source": [
        "\n",
        "Training a Classifier\n",
        "=====================\n",
        "\n",
        "This is it. You have seen how to define neural networks, compute loss and make\n",
        "updates to the weights of the network.\n",
        "\n",
        "Now you might be thinking,\n",
        "\n",
        "What about data?\n",
        "----------------\n",
        "\n",
        "Generally, when you have to deal with image, text, audio or video data,\n",
        "you can use standard python packages that load data into a numpy array.\n",
        "Then you can convert this array into a ``torch.*Tensor``.\n",
        "\n",
        "-  For images, packages such as Pillow, OpenCV are useful\n",
        "-  For audio, packages such as scipy and librosa\n",
        "-  For text, either raw Python or Cython based loading, or NLTK and\n",
        "   SpaCy are useful\n",
        "\n",
        "Specifically for vision, we have created a package called\n",
        "``torchvision``, that has data loaders for common datasets such as\n",
        "Imagenet, CIFAR10, MNIST, etc. and data transformers for images, viz.,\n",
        "``torchvision.datasets`` and ``torch.utils.data.DataLoader``.\n",
        "\n",
        "This provides a huge convenience and avoids writing boilerplate code.\n",
        "\n",
        "For this tutorial, we will use the CIFAR10 dataset.\n",
        "It has the classes: ‘airplane’, ‘automobile’, ‘bird’, ‘cat’, ‘deer’,\n",
        "‘dog’, ‘frog’, ‘horse’, ‘ship’, ‘truck’. The images in CIFAR-10 are of\n",
        "size 3x32x32, i.e. 3-channel color images of 32x32 pixels in size.\n",
        "\n",
        ".. figure:: /_static/img/cifar10.png\n",
        "   :alt: cifar10\n",
        "\n",
        "   cifar10\n",
        "\n",
        "\n",
        "Training an image classifier\n",
        "----------------------------\n",
        "\n",
        "We will do the following steps in order:\n",
        "\n",
        "1. Load and normalizing the CIFAR10 training and test datasets using\n",
        "   ``torchvision``\n",
        "2. Define a Convolution Neural Network\n",
        "3. Define a loss function\n",
        "4. Train the network on the training data\n",
        "5. Test the network on the test data\n",
        "\n",
        "1. Loading and normalizing CIFAR10\n",
        "^^^^^^^^^^^^^^^^^^^^^^^^^^^^^^^^^^\n",
        "\n",
        "Using ``torchvision``, it’s extremely easy to load CIFAR10.\n",
        "\n"
      ]
    },
    {
      "cell_type": "code",
      "metadata": {
        "colab_type": "code",
        "id": "-yVpodAMpoCi",
        "colab": {}
      },
      "source": [
        "import torch\n",
        "import torchvision\n",
        "import torchvision.transforms as transforms"
      ],
      "execution_count": 0,
      "outputs": []
    },
    {
      "cell_type": "markdown",
      "metadata": {
        "colab_type": "text",
        "id": "5kjt4e2TpoCk"
      },
      "source": [
        "The output of torchvision datasets are PILImage images of range [0, 1].\n",
        "We transform them to Tensors of normalized range [-1, 1].\n",
        "\n"
      ]
    },
    {
      "cell_type": "code",
      "metadata": {
        "colab_type": "code",
        "id": "D8Tjigo2poCl",
        "outputId": "1a09e534-3617-471b-9e9d-0bad20d0247e",
        "colab": {
          "base_uri": "https://localhost:8080/",
          "height": 51
        }
      },
      "source": [
        "train_transform = transforms.Compose(\n",
        "    [transforms.RandomHorizontalFlip(p=0.5),\n",
        "     transforms.RandomCrop(32),\n",
        "     transforms.RandomRotation((-15.0, 15.0)),\n",
        "     transforms.ToTensor(),\n",
        "     transforms.Normalize((0.5, 0.5, 0.5), (0.5, 0.5, 0.5))])\n",
        "\n",
        "test_transform = transforms.Compose(\n",
        "    [transforms.ToTensor(),\n",
        "     transforms.Normalize((0.5,0.5,0.5),(0.5,0.5,0.5))]\n",
        ")\n",
        "\n",
        "trainset = torchvision.datasets.CIFAR10(root='./data', train=True,\n",
        "                                        download=True, transform=train_transform)\n",
        "\n",
        "\n",
        "testset = torchvision.datasets.CIFAR10(root='./data', train=False,\n",
        "                                       download=True, transform=test_transform)\n",
        "\n",
        "\n",
        "classes = ('plane', 'car', 'bird', 'cat',\n",
        "           'deer', 'dog', 'frog', 'horse', 'ship', 'truck')"
      ],
      "execution_count": 3,
      "outputs": [
        {
          "output_type": "stream",
          "text": [
            "Files already downloaded and verified\n",
            "Files already downloaded and verified\n"
          ],
          "name": "stdout"
        }
      ]
    },
    {
      "cell_type": "markdown",
      "metadata": {
        "colab_type": "text",
        "id": "QuUomIYbADLz"
      },
      "source": [
        "Code to check GPU availability"
      ]
    },
    {
      "cell_type": "code",
      "metadata": {
        "colab_type": "code",
        "id": "5B5_uDAO_2oL",
        "outputId": "a1e50e61-d44b-4e83-c6ea-63f744d42bb6",
        "colab": {
          "base_uri": "https://localhost:8080/",
          "height": 34
        }
      },
      "source": [
        "SEED = 1\n",
        "# Check if CUDA is available\n",
        "cuda = torch.cuda.is_available()\n",
        "print(\"Is CUDA available : \", cuda)\n",
        "\n",
        "torch.manual_seed(SEED)\n",
        "\n",
        "if cuda:\n",
        "  torch.cuda.manual_seed(SEED)\n",
        "\n",
        "# Data loader argumens for train and test\n",
        "dataloader_args = dict(shuffle=True, batch_size=128, num_workers=4, pin_memory=True) if cuda else dict(shuffle=True, batch_size=32)\n",
        "\n",
        "# Train loader\n",
        "trainloader = torch.utils.data.DataLoader(trainset, **dataloader_args)\n",
        "\n",
        "# Test loader\n",
        "testloader = torch.utils.data.DataLoader(testset, **dataloader_args)"
      ],
      "execution_count": 4,
      "outputs": [
        {
          "output_type": "stream",
          "text": [
            "Is CUDA available :  True\n"
          ],
          "name": "stdout"
        }
      ]
    },
    {
      "cell_type": "markdown",
      "metadata": {
        "colab_type": "text",
        "id": "_cj433rtpoCn"
      },
      "source": [
        "Let us show some of the training images, for fun.\n",
        "\n"
      ]
    },
    {
      "cell_type": "code",
      "metadata": {
        "colab_type": "code",
        "id": "daA7bADhpoCo",
        "outputId": "83dbe9f5-7c96-488c-af93-fcfb78936bf3",
        "colab": {
          "base_uri": "https://localhost:8080/",
          "height": 286
        }
      },
      "source": [
        "import matplotlib.pyplot as plt\n",
        "import numpy as np\n",
        "\n",
        "# functions to show an image\n",
        "\n",
        "\n",
        "def imshow(img):\n",
        "    img = img / 2 + 0.5     # unnormalize\n",
        "    npimg = img.numpy()\n",
        "    plt.imshow(np.transpose(npimg, (1, 2, 0)))\n",
        "\n",
        "\n",
        "# get some random training images\n",
        "dataiter = iter(trainloader)\n",
        "images, labels = dataiter.next()\n",
        "\n",
        "# show images\n",
        "imshow(torchvision.utils.make_grid(images))\n",
        "# print labels\n",
        "print(' '.join('%5s' % classes[labels[j]] for j in range(4)))"
      ],
      "execution_count": 5,
      "outputs": [
        {
          "output_type": "stream",
          "text": [
            "plane   dog  deer  deer\n"
          ],
          "name": "stdout"
        },
        {
          "output_type": "display_data",
          "data": {
            "image/png": "[encoded data removed]",
            "text/plain": [
              "<Figure size 432x288 with 1 Axes>"
            ]
          },
          "metadata": {
            "tags": []
          }
        }
      ]
    },
    {
      "cell_type": "markdown",
      "metadata": {
        "colab_type": "text",
        "id": "28OpHA_LpoCq"
      },
      "source": [
        "2. Define a Convolution Neural Network\n",
        "^^^^^^^^^^^^^^^^^^^^^^^^^^^^^^^^^^^^^^\n",
        "Copy the neural network from the Neural Networks section before and modify it to\n",
        "take 3-channel images (instead of 1-channel images as it was defined).\n",
        "\n"
      ]
    },
    {
      "cell_type": "code",
      "metadata": {
        "colab_type": "code",
        "id": "0jjLwLLQpoCr",
        "colab": {}
      },
      "source": [
        "import torch.nn as nn\n",
        "import torch.nn.functional as F\n",
        "\n",
        "dropout_value=0.20\n",
        "class Net(nn.Module):\n",
        "    def __init__(self):\n",
        "        super(Net, self).__init__()\n",
        "        ############################### Convolution Block 1 ###############################\n",
        "        self.conv1 = nn.Sequential(nn.Conv2d(in_channels=3, out_channels=32, kernel_size=(3,3), padding=2, dilation=2, bias=False),# Atrous Convolution\n",
        "                                   nn.ReLU(),\n",
        "                                   nn.BatchNorm2d(32),\n",
        "                                   nn.Conv2d(in_channels=32, out_channels=32, kernel_size=(3,3), padding=1, bias=False),\n",
        "                                   nn.ReLU(),\n",
        "                                   nn.BatchNorm2d(32),\n",
        "                                   nn.Dropout2d(dropout_value))# Input=32x32x3 Output=32x32x64 RF=7x7\n",
        "        ############################## Transition Block 1 ##################################\n",
        "        self.pool1 = nn.MaxPool2d(2, 2)# Input=32x32x64 Output=16x16x64 RF=8x8\n",
        "        \n",
        "        \n",
        "        \n",
        "         ############################### Convolution Block 2 ###############################\n",
        "        self.conv2 = nn.Sequential(nn.Conv2d(in_channels=32, out_channels=64, kernel_size=(3,3), padding=1, bias=False),\n",
        "                                   nn.ReLU(),\n",
        "                                   nn.BatchNorm2d(64),\n",
        "                                   nn.Conv2d(in_channels=64, out_channels=64, kernel_size=(3,3), padding=1, bias=False),\n",
        "                                   nn.ReLU(),\n",
        "                                   nn.BatchNorm2d(64),\n",
        "                                   nn.Dropout2d(dropout_value))# Input=16x16x64 Output=16x16x128 RF=16x16\n",
        "        ############################## Transition Block 1 ##################################\n",
        "        self.pool2 = nn.MaxPool2d(2, 2)# Input=16x16x64 Output=8x8x128 RF=18x18\n",
        "        \n",
        "        \n",
        "        \n",
        "         ############################### Convolution Block 3 ###############################\n",
        "        self.conv3 = nn.Sequential(nn.Conv2d(in_channels=64, out_channels=128, kernel_size=(3,3), padding=1, bias=False),\n",
        "                                   nn.ReLU(),\n",
        "                                   nn.BatchNorm2d(128),\n",
        "                                   nn.Conv2d(in_channels=128, out_channels=128, kernel_size=(3,3), padding=1, bias=False),\n",
        "                                   nn.ReLU(),\n",
        "                                   nn.BatchNorm2d(128),\n",
        "                                   nn.Dropout2d(dropout_value))# Input=8x8x128 Output=8x8x256 RF=34x34\n",
        "        ############################## Transition Block 1 ##################################\n",
        "        self.pool3 = nn.MaxPool2d(2, 2)# Input=8x8x128 Output=4x4x128 RF=38x38\n",
        "        \n",
        "        \n",
        "        \n",
        "         ############################### Convolution Block 4 ###############################\n",
        "        self.conv4 = nn.Sequential(nn.Conv2d(in_channels=128, out_channels=128, kernel_size=(3,3), padding=1, groups=128, bias=False),\n",
        "                                   nn.ReLU(),\n",
        "                                   nn.BatchNorm2d(128),\n",
        "                                   nn.Conv2d(in_channels=128, out_channels=256, kernel_size=(1,1), padding=0, bias=False),\n",
        "                                   nn.ReLU(),\n",
        "                                   nn.BatchNorm2d(256),\n",
        "                                   nn.Conv2d(in_channels=256, out_channels=256, kernel_size=(3,3), padding=1, groups=256, bias=False),\n",
        "                                   nn.ReLU(),\n",
        "                                   nn.BatchNorm2d(256),\n",
        "                                   nn.Conv2d(in_channels=256, out_channels=512, kernel_size=(1,1), padding=0, bias=False),\n",
        "                                   nn.ReLU(),\n",
        "                                   nn.BatchNorm2d(512),\n",
        "                                   nn.Dropout2d(dropout_value))# Input=4x4x256 Output=4x4x512 RF=60x60\n",
        "        \n",
        "        ############################## GAP Layer ##################################\n",
        "        self.gap = nn.Sequential(nn.AvgPool2d(kernel_size=4))# Input=4x4x512 Output=1x1x512 RF=84x84\n",
        "        \n",
        "        ############################# 1x1 Layer ###################################\n",
        "        self.conv5 = nn.Sequential(nn.Conv2d(in_channels=512, out_channels=10, kernel_size=(1,1), padding=0, bias=False))\n",
        "\n",
        "\n",
        "    def forward(self, x):\n",
        "      x = self.pool1(self.conv1(x))\n",
        "      x = self.pool2(self.conv2(x))\n",
        "      x = self.pool3(self.conv3(x))\n",
        "      x = self.conv4(x)\n",
        "      x = self.gap(x)\n",
        "      x = self.conv5(x)\n",
        "      x = x.view(-1, 10)\n",
        "      return F.log_softmax(x, dim=-1)\n",
        "\n",
        "      \n",
        "net=Net()\n",
        "\n"
      ],
      "execution_count": 0,
      "outputs": []
    },
    {
      "cell_type": "code",
      "metadata": {
        "id": "GhsypB4dGgLy",
        "colab_type": "code",
        "outputId": "162904f9-b0bd-43a9-bf0d-677c0bd56f53",
        "colab": {
          "base_uri": "https://localhost:8080/",
          "height": 935
        }
      },
      "source": [
        "!pip install torchsummary\n",
        "from torchsummary import summary\n",
        "use_cuda = torch.cuda.is_available()\n",
        "device = torch.device(\"cuda\" if use_cuda else \"cpu\")\n",
        "print(device)\n",
        "model = Net().to(device)\n",
        "summary(model, input_size=(3, 32, 32))"
      ],
      "execution_count": 7,
      "outputs": [
        {
          "output_type": "stream",
          "text": [
            "Requirement already satisfied: torchsummary in /usr/local/lib/python3.6/dist-packages (1.5.1)\n",
            "cuda\n",
            "----------------------------------------------------------------\n",
            "        Layer (type)               Output Shape         Param #\n",
            "================================================================\n",
            "            Conv2d-1           [-1, 32, 32, 32]             864\n",
            "              ReLU-2           [-1, 32, 32, 32]               0\n",
            "       BatchNorm2d-3           [-1, 32, 32, 32]              64\n",
            "            Conv2d-4           [-1, 32, 32, 32]           9,216\n",
            "              ReLU-5           [-1, 32, 32, 32]               0\n",
            "       BatchNorm2d-6           [-1, 32, 32, 32]              64\n",
            "         Dropout2d-7           [-1, 32, 32, 32]               0\n",
            "         MaxPool2d-8           [-1, 32, 16, 16]               0\n",
            "            Conv2d-9           [-1, 64, 16, 16]          18,432\n",
            "             ReLU-10           [-1, 64, 16, 16]               0\n",
            "      BatchNorm2d-11           [-1, 64, 16, 16]             128\n",
            "           Conv2d-12           [-1, 64, 16, 16]          36,864\n",
            "             ReLU-13           [-1, 64, 16, 16]               0\n",
            "      BatchNorm2d-14           [-1, 64, 16, 16]             128\n",
            "        Dropout2d-15           [-1, 64, 16, 16]               0\n",
            "        MaxPool2d-16             [-1, 64, 8, 8]               0\n",
            "           Conv2d-17            [-1, 128, 8, 8]          73,728\n",
            "             ReLU-18            [-1, 128, 8, 8]               0\n",
            "      BatchNorm2d-19            [-1, 128, 8, 8]             256\n",
            "           Conv2d-20            [-1, 128, 8, 8]         147,456\n",
            "             ReLU-21            [-1, 128, 8, 8]               0\n",
            "      BatchNorm2d-22            [-1, 128, 8, 8]             256\n",
            "        Dropout2d-23            [-1, 128, 8, 8]               0\n",
            "        MaxPool2d-24            [-1, 128, 4, 4]               0\n",
            "           Conv2d-25            [-1, 128, 4, 4]           1,152\n",
            "             ReLU-26            [-1, 128, 4, 4]               0\n",
            "      BatchNorm2d-27            [-1, 128, 4, 4]             256\n",
            "           Conv2d-28            [-1, 256, 4, 4]          32,768\n",
            "             ReLU-29            [-1, 256, 4, 4]               0\n",
            "      BatchNorm2d-30            [-1, 256, 4, 4]             512\n",
            "           Conv2d-31            [-1, 256, 4, 4]           2,304\n",
            "             ReLU-32            [-1, 256, 4, 4]               0\n",
            "      BatchNorm2d-33            [-1, 256, 4, 4]             512\n",
            "           Conv2d-34            [-1, 512, 4, 4]         131,072\n",
            "             ReLU-35            [-1, 512, 4, 4]               0\n",
            "      BatchNorm2d-36            [-1, 512, 4, 4]           1,024\n",
            "        Dropout2d-37            [-1, 512, 4, 4]               0\n",
            "        AvgPool2d-38            [-1, 512, 1, 1]               0\n",
            "           Conv2d-39             [-1, 10, 1, 1]           5,120\n",
            "================================================================\n",
            "Total params: 462,176\n",
            "Trainable params: 462,176\n",
            "Non-trainable params: 0\n",
            "----------------------------------------------------------------\n",
            "Input size (MB): 0.01\n",
            "Forward/backward pass size (MB): 3.66\n",
            "Params size (MB): 1.76\n",
            "Estimated Total Size (MB): 5.44\n",
            "----------------------------------------------------------------\n"
          ],
          "name": "stdout"
        }
      ]
    },
    {
      "cell_type": "markdown",
      "metadata": {
        "id": "ABKoxWenGgL3",
        "colab_type": "text"
      },
      "source": [
        "Method to Train Model"
      ]
    },
    {
      "cell_type": "code",
      "metadata": {
        "colab_type": "code",
        "id": "kkuRfo1IpoC3",
        "outputId": "e5149a95-a3de-43bf-e307-eaecc4e8af5f",
        "colab": {
          "base_uri": "https://localhost:8080/",
          "height": 34
        }
      },
      "source": [
        "from tqdm import tqdm\n",
        "\n",
        "train_losses = []\n",
        "train_acc = []\n",
        "def train(model, device, trainloader, optimizer, epoch, reg_type):\n",
        "    running_loss = 0.0\n",
        "    correct = 0\n",
        "    processed = 0\n",
        "    pbar = tqdm(trainloader)\n",
        "    for i, data in enumerate(pbar):\n",
        "        # get the inputs\n",
        "        inputs, labels = data\n",
        "\n",
        "        # zero the parameter gradients\n",
        "        optimizer.zero_grad()\n",
        "\n",
        "        # forward + backward + optimize\n",
        "        outputs = net(inputs)\n",
        "        loss = criterion(outputs, labels)\n",
        "        train_losses.append(loss)\n",
        "        loss.backward()\n",
        "        optimizer.step()\n",
        "        # Update pbar tqdm \n",
        "        output = outputs.argmax(dim=1, keepdim=True)\n",
        "        correct += output.eq(labels.view_as(output)).sum().item()\n",
        "        #correct += (output == labels).sum().item()\n",
        "        processed += len(inputs)\n",
        "        pbar.set_description(desc= f'Loss={loss.item()} Batch_id={i} Accuracy={100*correct/processed:0.2f}')\n",
        "        train_acc.append(100*correct/processed)\n",
        "\n",
        "print('Finished Training')"
      ],
      "execution_count": 8,
      "outputs": [
        {
          "output_type": "stream",
          "text": [
            "Finished Training\n"
          ],
          "name": "stdout"
        }
      ]
    },
    {
      "cell_type": "markdown",
      "metadata": {
        "id": "989N9jPUGgL_",
        "colab_type": "text"
      },
      "source": [
        "Method to Test the Model"
      ]
    },
    {
      "cell_type": "code",
      "metadata": {
        "colab_type": "code",
        "id": "SZ4-5CESpoDD",
        "colab": {}
      },
      "source": [
        "test_losses = []\n",
        "test_acc = []\n",
        "def test(model, device, test_loader, reg_type):\n",
        "    correct = 0\n",
        "    total = 0\n",
        "    test_loss = 0\n",
        "    with torch.no_grad():\n",
        "        for data in testloader:\n",
        "            images, labels = data\n",
        "            outputs = net(images)\n",
        "            test_loss = criterion(outputs, labels)\n",
        "           # test_loss += F.nll_loss(outputs, labels, reduction='sum').item()\n",
        "            _, predicted = torch.max(outputs.data, 1)\n",
        "            total += labels.size(0)\n",
        "            correct += (predicted == labels).sum().item()\n",
        "    \n",
        "    test_losses.append(test_loss)\n",
        "    print('\\nTest Set: Average loss: {}, Accuracy: {}/{} ({:.2f}%)\\n'.format(test_loss, correct, len(testloader.dataset),\n",
        "                                                                        100. * correct / len(testloader.dataset)))"
      ],
      "execution_count": 0,
      "outputs": []
    },
    {
      "cell_type": "markdown",
      "metadata": {
        "colab_type": "text",
        "id": "Wdw2NNCUpoCu"
      },
      "source": [
        "3. Define a Loss function and optimizer\n",
        "^^^^^^^^^^^^^^^^^^^^^^^^^^^^^^^^^^^^^^^\n",
        "Let's use a Classification Cross-Entropy loss and SGD with momentum.\n",
        "\n"
      ]
    },
    {
      "cell_type": "code",
      "metadata": {
        "colab_type": "code",
        "id": "M4xBbDROpoCv",
        "outputId": "a3c65516-6032-454d-cf03-c5bb9f3004ed",
        "colab": {
          "base_uri": "https://localhost:8080/",
          "height": 1000
        }
      },
      "source": [
        "import torch.optim as optim\n",
        "\n",
        "criterion = nn.CrossEntropyLoss()\n",
        "optimizer = optim.SGD(net.parameters(), lr=0.005, momentum=0.9, weight_decay=0.0003)\n",
        "EPOCHS = 40\n",
        "for epoch in range(EPOCHS):  # loop over the dataset multiple times\n",
        "    print(\"EPOCH: \", epoch)\n",
        "    train(net, device, trainloader, optimizer, epoch, 'l1')\n",
        "    test(net, device, testloader, 'l1')\n",
        "    "
      ],
      "execution_count": 10,
      "outputs": [
        {
          "output_type": "stream",
          "text": [
            "\r  0%|          | 0/391 [00:00<?, ?it/s]"
          ],
          "name": "stderr"
        },
        {
          "output_type": "stream",
          "text": [
            "EPOCH:  0\n"
          ],
          "name": "stdout"
        },
        {
          "output_type": "stream",
          "text": [
            "Loss=1.4476821422576904 Batch_id=390 Accuracy=37.23: 100%|██████████| 391/391 [04:39<00:00,  1.67it/s]\n",
            "  0%|          | 0/391 [00:00<?, ?it/s]"
          ],
          "name": "stderr"
        },
        {
          "output_type": "stream",
          "text": [
            "\n",
            "Test Set: Average loss: 1.4062886238098145, Accuracy: 4838/10000 (48.38%)\n",
            "\n",
            "EPOCH:  1\n"
          ],
          "name": "stdout"
        },
        {
          "output_type": "stream",
          "text": [
            "Loss=1.3894083499908447 Batch_id=390 Accuracy=51.01: 100%|██████████| 391/391 [04:24<00:00,  1.69it/s]\n",
            "  0%|          | 0/391 [00:00<?, ?it/s]"
          ],
          "name": "stderr"
        },
        {
          "output_type": "stream",
          "text": [
            "\n",
            "Test Set: Average loss: 1.8986098766326904, Accuracy: 5537/10000 (55.37%)\n",
            "\n",
            "EPOCH:  2\n"
          ],
          "name": "stdout"
        },
        {
          "output_type": "stream",
          "text": [
            "Loss=1.3907514810562134 Batch_id=390 Accuracy=56.72: 100%|██████████| 391/391 [04:23<00:00,  1.61it/s]\n",
            "  0%|          | 0/391 [00:00<?, ?it/s]"
          ],
          "name": "stderr"
        },
        {
          "output_type": "stream",
          "text": [
            "\n",
            "Test Set: Average loss: 0.8513087034225464, Accuracy: 6000/10000 (60.00%)\n",
            "\n",
            "EPOCH:  3\n"
          ],
          "name": "stdout"
        },
        {
          "output_type": "stream",
          "text": [
            "Loss=0.9710831642150879 Batch_id=390 Accuracy=60.28: 100%|██████████| 391/391 [04:27<00:00,  1.68it/s]\n",
            "  0%|          | 0/391 [00:00<?, ?it/s]"
          ],
          "name": "stderr"
        },
        {
          "output_type": "stream",
          "text": [
            "\n",
            "Test Set: Average loss: 1.2199373245239258, Accuracy: 6308/10000 (63.08%)\n",
            "\n",
            "EPOCH:  4\n"
          ],
          "name": "stdout"
        },
        {
          "output_type": "stream",
          "text": [
            "Loss=0.8817116022109985 Batch_id=390 Accuracy=63.84: 100%|██████████| 391/391 [04:23<00:00,  1.69it/s]\n",
            "  0%|          | 0/391 [00:00<?, ?it/s]"
          ],
          "name": "stderr"
        },
        {
          "output_type": "stream",
          "text": [
            "\n",
            "Test Set: Average loss: 0.9805936813354492, Accuracy: 6587/10000 (65.87%)\n",
            "\n",
            "EPOCH:  5\n"
          ],
          "name": "stdout"
        },
        {
          "output_type": "stream",
          "text": [
            "Loss=0.8246067762374878 Batch_id=390 Accuracy=65.91: 100%|██████████| 391/391 [04:29<00:00,  1.64it/s]\n",
            "  0%|          | 0/391 [00:00<?, ?it/s]"
          ],
          "name": "stderr"
        },
        {
          "output_type": "stream",
          "text": [
            "\n",
            "Test Set: Average loss: 1.1732627153396606, Accuracy: 6735/10000 (67.35%)\n",
            "\n",
            "EPOCH:  6\n"
          ],
          "name": "stdout"
        },
        {
          "output_type": "stream",
          "text": [
            "Loss=0.8108468055725098 Batch_id=390 Accuracy=68.08: 100%|██████████| 391/391 [04:37<00:00,  1.54it/s]\n",
            "  0%|          | 0/391 [00:00<?, ?it/s]"
          ],
          "name": "stderr"
        },
        {
          "output_type": "stream",
          "text": [
            "\n",
            "Test Set: Average loss: 1.0853354930877686, Accuracy: 6986/10000 (69.86%)\n",
            "\n",
            "EPOCH:  7\n"
          ],
          "name": "stdout"
        },
        {
          "output_type": "stream",
          "text": [
            "Loss=0.6453970670700073 Batch_id=390 Accuracy=69.20: 100%|██████████| 391/391 [04:47<00:00,  1.52it/s]\n",
            "  0%|          | 0/391 [00:00<?, ?it/s]"
          ],
          "name": "stderr"
        },
        {
          "output_type": "stream",
          "text": [
            "\n",
            "Test Set: Average loss: 0.7454527616500854, Accuracy: 7109/10000 (71.09%)\n",
            "\n",
            "EPOCH:  8\n"
          ],
          "name": "stdout"
        },
        {
          "output_type": "stream",
          "text": [
            "Loss=0.9439969062805176 Batch_id=390 Accuracy=70.80: 100%|██████████| 391/391 [04:58<00:00,  1.47it/s]\n",
            "  0%|          | 0/391 [00:00<?, ?it/s]"
          ],
          "name": "stderr"
        },
        {
          "output_type": "stream",
          "text": [
            "\n",
            "Test Set: Average loss: 0.8219314813613892, Accuracy: 7156/10000 (71.56%)\n",
            "\n",
            "EPOCH:  9\n"
          ],
          "name": "stdout"
        },
        {
          "output_type": "stream",
          "text": [
            "Loss=1.0596444606781006 Batch_id=390 Accuracy=71.84: 100%|██████████| 391/391 [04:49<00:00,  1.58it/s]\n",
            "  0%|          | 0/391 [00:00<?, ?it/s]"
          ],
          "name": "stderr"
        },
        {
          "output_type": "stream",
          "text": [
            "\n",
            "Test Set: Average loss: 1.108142375946045, Accuracy: 7325/10000 (73.25%)\n",
            "\n",
            "EPOCH:  10\n"
          ],
          "name": "stdout"
        },
        {
          "output_type": "stream",
          "text": [
            "Loss=0.7225049734115601 Batch_id=390 Accuracy=72.63: 100%|██████████| 391/391 [04:35<00:00,  1.60it/s]\n",
            "  0%|          | 0/391 [00:00<?, ?it/s]"
          ],
          "name": "stderr"
        },
        {
          "output_type": "stream",
          "text": [
            "\n",
            "Test Set: Average loss: 0.9881589412689209, Accuracy: 7425/10000 (74.25%)\n",
            "\n",
            "EPOCH:  11\n"
          ],
          "name": "stdout"
        },
        {
          "output_type": "stream",
          "text": [
            "Loss=0.7493380308151245 Batch_id=390 Accuracy=73.55: 100%|██████████| 391/391 [04:30<00:00,  1.65it/s]\n",
            "  0%|          | 0/391 [00:00<?, ?it/s]"
          ],
          "name": "stderr"
        },
        {
          "output_type": "stream",
          "text": [
            "\n",
            "Test Set: Average loss: 0.7270534038543701, Accuracy: 7433/10000 (74.33%)\n",
            "\n",
            "EPOCH:  12\n"
          ],
          "name": "stdout"
        },
        {
          "output_type": "stream",
          "text": [
            "Loss=0.6207011938095093 Batch_id=390 Accuracy=74.58: 100%|██████████| 391/391 [04:32<00:00,  1.62it/s]\n",
            "  0%|          | 0/391 [00:00<?, ?it/s]"
          ],
          "name": "stderr"
        },
        {
          "output_type": "stream",
          "text": [
            "\n",
            "Test Set: Average loss: 0.44485798478126526, Accuracy: 7542/10000 (75.42%)\n",
            "\n",
            "EPOCH:  13\n"
          ],
          "name": "stdout"
        },
        {
          "output_type": "stream",
          "text": [
            "Loss=0.7763229012489319 Batch_id=390 Accuracy=74.56: 100%|██████████| 391/391 [04:31<00:00,  1.65it/s]\n",
            "  0%|          | 0/391 [00:00<?, ?it/s]"
          ],
          "name": "stderr"
        },
        {
          "output_type": "stream",
          "text": [
            "\n",
            "Test Set: Average loss: 0.7198614478111267, Accuracy: 7492/10000 (74.92%)\n",
            "\n",
            "EPOCH:  14\n"
          ],
          "name": "stdout"
        },
        {
          "output_type": "stream",
          "text": [
            "Loss=0.9096661806106567 Batch_id=390 Accuracy=75.74: 100%|██████████| 391/391 [04:29<00:00,  1.60it/s]\n",
            "  0%|          | 0/391 [00:00<?, ?it/s]"
          ],
          "name": "stderr"
        },
        {
          "output_type": "stream",
          "text": [
            "\n",
            "Test Set: Average loss: 0.9013726711273193, Accuracy: 7547/10000 (75.47%)\n",
            "\n",
            "EPOCH:  15\n"
          ],
          "name": "stdout"
        },
        {
          "output_type": "stream",
          "text": [
            "Loss=0.6515681147575378 Batch_id=390 Accuracy=75.80: 100%|██████████| 391/391 [04:31<00:00,  1.66it/s]\n",
            "  0%|          | 0/391 [00:00<?, ?it/s]"
          ],
          "name": "stderr"
        },
        {
          "output_type": "stream",
          "text": [
            "\n",
            "Test Set: Average loss: 0.4617430567741394, Accuracy: 7635/10000 (76.35%)\n",
            "\n",
            "EPOCH:  16\n"
          ],
          "name": "stdout"
        },
        {
          "output_type": "stream",
          "text": [
            "Loss=0.7900480628013611 Batch_id=390 Accuracy=76.31: 100%|██████████| 391/391 [04:26<00:00,  1.68it/s]\n",
            "  0%|          | 0/391 [00:00<?, ?it/s]"
          ],
          "name": "stderr"
        },
        {
          "output_type": "stream",
          "text": [
            "\n",
            "Test Set: Average loss: 0.6096985936164856, Accuracy: 7661/10000 (76.61%)\n",
            "\n",
            "EPOCH:  17\n"
          ],
          "name": "stdout"
        },
        {
          "output_type": "stream",
          "text": [
            "Loss=0.8006728291511536 Batch_id=390 Accuracy=76.90: 100%|██████████| 391/391 [04:28<00:00,  1.66it/s]\n",
            "  0%|          | 0/391 [00:00<?, ?it/s]"
          ],
          "name": "stderr"
        },
        {
          "output_type": "stream",
          "text": [
            "\n",
            "Test Set: Average loss: 0.8715094923973083, Accuracy: 7728/10000 (77.28%)\n",
            "\n",
            "EPOCH:  18\n"
          ],
          "name": "stdout"
        },
        {
          "output_type": "stream",
          "text": [
            "Loss=0.6810203790664673 Batch_id=390 Accuracy=77.42: 100%|██████████| 391/391 [04:28<00:00,  1.67it/s]\n",
            "  0%|          | 0/391 [00:00<?, ?it/s]"
          ],
          "name": "stderr"
        },
        {
          "output_type": "stream",
          "text": [
            "\n",
            "Test Set: Average loss: 1.2271238565444946, Accuracy: 7797/10000 (77.97%)\n",
            "\n",
            "EPOCH:  19\n"
          ],
          "name": "stdout"
        },
        {
          "output_type": "stream",
          "text": [
            "Loss=0.7340406179428101 Batch_id=390 Accuracy=77.85: 100%|██████████| 391/391 [04:26<00:00,  1.66it/s]\n",
            "  0%|          | 0/391 [00:00<?, ?it/s]"
          ],
          "name": "stderr"
        },
        {
          "output_type": "stream",
          "text": [
            "\n",
            "Test Set: Average loss: 0.7807722687721252, Accuracy: 7688/10000 (76.88%)\n",
            "\n",
            "EPOCH:  20\n"
          ],
          "name": "stdout"
        },
        {
          "output_type": "stream",
          "text": [
            "Loss=0.5115428566932678 Batch_id=390 Accuracy=78.32: 100%|██████████| 391/391 [04:26<00:00,  1.62it/s]\n",
            "  0%|          | 0/391 [00:00<?, ?it/s]"
          ],
          "name": "stderr"
        },
        {
          "output_type": "stream",
          "text": [
            "\n",
            "Test Set: Average loss: 0.836527943611145, Accuracy: 7794/10000 (77.94%)\n",
            "\n",
            "EPOCH:  21\n"
          ],
          "name": "stdout"
        },
        {
          "output_type": "stream",
          "text": [
            "Loss=0.5795814394950867 Batch_id=390 Accuracy=78.24: 100%|██████████| 391/391 [04:25<00:00,  1.69it/s]\n",
            "  0%|          | 0/391 [00:00<?, ?it/s]"
          ],
          "name": "stderr"
        },
        {
          "output_type": "stream",
          "text": [
            "\n",
            "Test Set: Average loss: 0.6260356903076172, Accuracy: 7820/10000 (78.20%)\n",
            "\n",
            "EPOCH:  22\n"
          ],
          "name": "stdout"
        },
        {
          "output_type": "stream",
          "text": [
            "Loss=0.5920835733413696 Batch_id=390 Accuracy=78.70: 100%|██████████| 391/391 [04:25<00:00,  1.63it/s]\n",
            "  0%|          | 0/391 [00:00<?, ?it/s]"
          ],
          "name": "stderr"
        },
        {
          "output_type": "stream",
          "text": [
            "\n",
            "Test Set: Average loss: 1.10713529586792, Accuracy: 7895/10000 (78.95%)\n",
            "\n",
            "EPOCH:  23\n"
          ],
          "name": "stdout"
        },
        {
          "output_type": "stream",
          "text": [
            "Loss=0.6026464700698853 Batch_id=390 Accuracy=79.08: 100%|██████████| 391/391 [04:24<00:00,  1.68it/s]\n",
            "  0%|          | 0/391 [00:00<?, ?it/s]"
          ],
          "name": "stderr"
        },
        {
          "output_type": "stream",
          "text": [
            "\n",
            "Test Set: Average loss: 0.5659423470497131, Accuracy: 7900/10000 (79.00%)\n",
            "\n",
            "EPOCH:  24\n"
          ],
          "name": "stdout"
        },
        {
          "output_type": "stream",
          "text": [
            "Loss=0.6516031622886658 Batch_id=390 Accuracy=79.17: 100%|██████████| 391/391 [04:22<00:00,  1.64it/s]\n",
            "  0%|          | 0/391 [00:00<?, ?it/s]"
          ],
          "name": "stderr"
        },
        {
          "output_type": "stream",
          "text": [
            "\n",
            "Test Set: Average loss: 0.5566332340240479, Accuracy: 7897/10000 (78.97%)\n",
            "\n",
            "EPOCH:  25\n"
          ],
          "name": "stdout"
        },
        {
          "output_type": "stream",
          "text": [
            "Loss=0.7360739707946777 Batch_id=390 Accuracy=79.67: 100%|██████████| 391/391 [04:29<00:00,  1.59it/s]\n",
            "  0%|          | 0/391 [00:00<?, ?it/s]"
          ],
          "name": "stderr"
        },
        {
          "output_type": "stream",
          "text": [
            "\n",
            "Test Set: Average loss: 0.8319246768951416, Accuracy: 7999/10000 (79.99%)\n",
            "\n",
            "EPOCH:  26\n"
          ],
          "name": "stdout"
        },
        {
          "output_type": "stream",
          "text": [
            "Loss=0.47207117080688477 Batch_id=390 Accuracy=79.86: 100%|██████████| 391/391 [04:42<00:00,  1.55it/s]\n",
            "  0%|          | 0/391 [00:00<?, ?it/s]"
          ],
          "name": "stderr"
        },
        {
          "output_type": "stream",
          "text": [
            "\n",
            "Test Set: Average loss: 0.534555196762085, Accuracy: 7922/10000 (79.22%)\n",
            "\n",
            "EPOCH:  27\n"
          ],
          "name": "stdout"
        },
        {
          "output_type": "stream",
          "text": [
            "Loss=0.6925278902053833 Batch_id=390 Accuracy=80.10: 100%|██████████| 391/391 [04:51<00:00,  1.46it/s]\n",
            "  0%|          | 0/391 [00:00<?, ?it/s]"
          ],
          "name": "stderr"
        },
        {
          "output_type": "stream",
          "text": [
            "\n",
            "Test Set: Average loss: 0.787674605846405, Accuracy: 8011/10000 (80.11%)\n",
            "\n",
            "EPOCH:  28\n"
          ],
          "name": "stdout"
        },
        {
          "output_type": "stream",
          "text": [
            "Loss=0.5304564237594604 Batch_id=390 Accuracy=80.52: 100%|██████████| 391/391 [04:55<00:00,  1.51it/s]\n",
            "  0%|          | 0/391 [00:00<?, ?it/s]"
          ],
          "name": "stderr"
        },
        {
          "output_type": "stream",
          "text": [
            "\n",
            "Test Set: Average loss: 0.29804515838623047, Accuracy: 7931/10000 (79.31%)\n",
            "\n",
            "EPOCH:  29\n"
          ],
          "name": "stdout"
        },
        {
          "output_type": "stream",
          "text": [
            "Loss=0.5186591148376465 Batch_id=390 Accuracy=80.70: 100%|██████████| 391/391 [04:57<00:00,  1.49it/s]\n",
            "  0%|          | 0/391 [00:00<?, ?it/s]"
          ],
          "name": "stderr"
        },
        {
          "output_type": "stream",
          "text": [
            "\n",
            "Test Set: Average loss: 0.950020432472229, Accuracy: 7909/10000 (79.09%)\n",
            "\n",
            "EPOCH:  30\n"
          ],
          "name": "stdout"
        },
        {
          "output_type": "stream",
          "text": [
            "Loss=0.542279064655304 Batch_id=390 Accuracy=80.85: 100%|██████████| 391/391 [04:57<00:00,  1.46it/s]\n",
            "  0%|          | 0/391 [00:00<?, ?it/s]"
          ],
          "name": "stderr"
        },
        {
          "output_type": "stream",
          "text": [
            "\n",
            "Test Set: Average loss: 1.0783970355987549, Accuracy: 7950/10000 (79.50%)\n",
            "\n",
            "EPOCH:  31\n"
          ],
          "name": "stdout"
        },
        {
          "output_type": "stream",
          "text": [
            "Loss=0.43785515427589417 Batch_id=390 Accuracy=80.98: 100%|██████████| 391/391 [04:58<00:00,  1.48it/s]\n",
            "  0%|          | 0/391 [00:00<?, ?it/s]"
          ],
          "name": "stderr"
        },
        {
          "output_type": "stream",
          "text": [
            "\n",
            "Test Set: Average loss: 0.431959867477417, Accuracy: 8017/10000 (80.17%)\n",
            "\n",
            "EPOCH:  32\n"
          ],
          "name": "stdout"
        },
        {
          "output_type": "stream",
          "text": [
            "Loss=0.4935600757598877 Batch_id=390 Accuracy=81.35: 100%|██████████| 391/391 [05:01<00:00,  1.45it/s]\n",
            "  0%|          | 0/391 [00:00<?, ?it/s]"
          ],
          "name": "stderr"
        },
        {
          "output_type": "stream",
          "text": [
            "\n",
            "Test Set: Average loss: 0.7148927450180054, Accuracy: 8044/10000 (80.44%)\n",
            "\n",
            "EPOCH:  33\n"
          ],
          "name": "stdout"
        },
        {
          "output_type": "stream",
          "text": [
            "Loss=0.7731834650039673 Batch_id=390 Accuracy=81.37: 100%|██████████| 391/391 [05:04<00:00,  1.45it/s]\n",
            "  0%|          | 0/391 [00:00<?, ?it/s]"
          ],
          "name": "stderr"
        },
        {
          "output_type": "stream",
          "text": [
            "\n",
            "Test Set: Average loss: 1.1608542203903198, Accuracy: 7992/10000 (79.92%)\n",
            "\n",
            "EPOCH:  34\n"
          ],
          "name": "stdout"
        },
        {
          "output_type": "stream",
          "text": [
            "Loss=0.5497964024543762 Batch_id=390 Accuracy=81.27: 100%|██████████| 391/391 [04:53<00:00,  1.41it/s]\n",
            "  0%|          | 0/391 [00:00<?, ?it/s]"
          ],
          "name": "stderr"
        },
        {
          "output_type": "stream",
          "text": [
            "\n",
            "Test Set: Average loss: 0.7845067977905273, Accuracy: 8073/10000 (80.73%)\n",
            "\n",
            "EPOCH:  35\n"
          ],
          "name": "stdout"
        },
        {
          "output_type": "stream",
          "text": [
            "Loss=0.6566159129142761 Batch_id=390 Accuracy=81.71: 100%|██████████| 391/391 [04:46<00:00,  1.51it/s]\n",
            "  0%|          | 0/391 [00:00<?, ?it/s]"
          ],
          "name": "stderr"
        },
        {
          "output_type": "stream",
          "text": [
            "\n",
            "Test Set: Average loss: 0.8537085056304932, Accuracy: 8056/10000 (80.56%)\n",
            "\n",
            "EPOCH:  36\n"
          ],
          "name": "stdout"
        },
        {
          "output_type": "stream",
          "text": [
            "Loss=0.4113950729370117 Batch_id=390 Accuracy=81.82: 100%|██████████| 391/391 [04:55<00:00,  1.52it/s]\n",
            "  0%|          | 0/391 [00:00<?, ?it/s]"
          ],
          "name": "stderr"
        },
        {
          "output_type": "stream",
          "text": [
            "\n",
            "Test Set: Average loss: 0.37846362590789795, Accuracy: 8037/10000 (80.37%)\n",
            "\n",
            "EPOCH:  37\n"
          ],
          "name": "stdout"
        },
        {
          "output_type": "stream",
          "text": [
            "Loss=0.4714246392250061 Batch_id=390 Accuracy=82.00: 100%|██████████| 391/391 [04:56<00:00,  1.49it/s]\n",
            "  0%|          | 0/391 [00:00<?, ?it/s]"
          ],
          "name": "stderr"
        },
        {
          "output_type": "stream",
          "text": [
            "\n",
            "Test Set: Average loss: 0.2644304633140564, Accuracy: 8062/10000 (80.62%)\n",
            "\n",
            "EPOCH:  38\n"
          ],
          "name": "stdout"
        },
        {
          "output_type": "stream",
          "text": [
            "Loss=0.48676547408103943 Batch_id=390 Accuracy=82.05: 100%|██████████| 391/391 [05:04<00:00,  1.41it/s]\n",
            "  0%|          | 0/391 [00:00<?, ?it/s]"
          ],
          "name": "stderr"
        },
        {
          "output_type": "stream",
          "text": [
            "\n",
            "Test Set: Average loss: 0.588045060634613, Accuracy: 8067/10000 (80.67%)\n",
            "\n",
            "EPOCH:  39\n"
          ],
          "name": "stdout"
        },
        {
          "output_type": "stream",
          "text": [
            "Loss=0.5856043696403503 Batch_id=390 Accuracy=82.25: 100%|██████████| 391/391 [05:05<00:00,  1.48it/s]\n"
          ],
          "name": "stderr"
        },
        {
          "output_type": "stream",
          "text": [
            "\n",
            "Test Set: Average loss: 1.0365732908248901, Accuracy: 8173/10000 (81.73%)\n",
            "\n"
          ],
          "name": "stdout"
        }
      ]
    },
    {
      "cell_type": "markdown",
      "metadata": {
        "id": "k2BKv_3LlggV",
        "colab_type": "text"
      },
      "source": [
        ""
      ]
    },
    {
      "cell_type": "markdown",
      "metadata": {
        "colab_type": "text",
        "id": "YLrvL_fHpoC5"
      },
      "source": [
        "5. We have trained the network for 2 passes over the training dataset.\n",
        "But we need to check if the network has learnt anything at all.\n",
        "\n",
        "We will check this by predicting the class label that the neural network\n",
        "outputs, and checking it against the ground-truth. If the prediction is\n",
        "correct, we add the sample to the list of correct predictions.\n",
        "\n",
        "Okay, first step. Let us display an image from the test set to get familiar.\n",
        "\n"
      ]
    },
    {
      "cell_type": "code",
      "metadata": {
        "colab_type": "code",
        "id": "nizbsvw9poC6",
        "outputId": "4a3e3683-bff1-49b4-9b52-cde2ad512055",
        "colab": {
          "base_uri": "https://localhost:8080/",
          "height": 286
        }
      },
      "source": [
        "dataiter = iter(testloader)\n",
        "images, labels = dataiter.next()\n",
        "\n",
        "# print images\n",
        "imshow(torchvision.utils.make_grid(images))\n",
        "print('GroundTruth: ', ' '.join('%5s' % classes[labels[j]] for j in range(4)))"
      ],
      "execution_count": 11,
      "outputs": [
        {
          "output_type": "stream",
          "text": [
            "GroundTruth:   ship truck   dog  frog\n"
          ],
          "name": "stdout"
        },
        {
          "output_type": "display_data",
          "data": {
            "image/png": "[encoded data removed]",
            "text/plain": [
              "<Figure size 432x288 with 1 Axes>"
            ]
          },
          "metadata": {
            "tags": []
          }
        }
      ]
    },
    {
      "cell_type": "code",
      "metadata": {
        "id": "3T7ezwhTqxyB",
        "colab_type": "code",
        "colab": {}
      },
      "source": [
        ""
      ],
      "execution_count": 0,
      "outputs": []
    },
    {
      "cell_type": "markdown",
      "metadata": {
        "colab_type": "text",
        "id": "DAx4QPHVpoC8"
      },
      "source": [
        "Okay, now let us see what the neural network thinks these examples above are:\n",
        "\n"
      ]
    },
    {
      "cell_type": "code",
      "metadata": {
        "colab_type": "code",
        "id": "HVLjlssWpoC9",
        "colab": {}
      },
      "source": [
        "outputs = net(images)"
      ],
      "execution_count": 0,
      "outputs": []
    },
    {
      "cell_type": "markdown",
      "metadata": {
        "colab_type": "text",
        "id": "u8OTHZEApoC_"
      },
      "source": [
        "The outputs are energies for the 10 classes.\n",
        "Higher the energy for a class, the more the network\n",
        "thinks that the image is of the particular class.\n",
        "So, let's get the index of the highest energy:\n",
        "\n"
      ]
    },
    {
      "cell_type": "code",
      "metadata": {
        "colab_type": "code",
        "id": "ABRIDW3lpoDA",
        "outputId": "4b1790ca-c2b6-4738-af45-84a0f87774f8",
        "colab": {
          "base_uri": "https://localhost:8080/",
          "height": 34
        }
      },
      "source": [
        "_, predicted = torch.max(outputs, 1)\n",
        "\n",
        "print('Predicted: ', ' '.join('%5s' % classes[predicted[j]]\n",
        "                              for j in range(4)))"
      ],
      "execution_count": 13,
      "outputs": [
        {
          "output_type": "stream",
          "text": [
            "Predicted:   ship truck   cat  frog\n"
          ],
          "name": "stdout"
        }
      ]
    },
    {
      "cell_type": "markdown",
      "metadata": {
        "colab_type": "text",
        "id": "2TV0TXL1poDC"
      },
      "source": [
        "The results seem pretty good.\n",
        "\n",
        "Let us look at how the network performs on the whole dataset.\n",
        "\n"
      ]
    },
    {
      "cell_type": "markdown",
      "metadata": {
        "colab_type": "text",
        "id": "eDdwPBl8poDF"
      },
      "source": [
        "That looks waaay better than chance, which is 10% accuracy (randomly picking\n",
        "a class out of 10 classes).\n",
        "Seems like the network learnt something.\n",
        "\n",
        "Hmmm, what are the classes that performed well, and the classes that did\n",
        "not perform well:\n",
        "\n"
      ]
    },
    {
      "cell_type": "code",
      "metadata": {
        "colab_type": "code",
        "id": "pDNFuDEDpoDG",
        "outputId": "3ac0184c-6332-44fd-86a7-ab4e71fab9f1",
        "colab": {
          "base_uri": "https://localhost:8080/",
          "height": 187
        }
      },
      "source": [
        "class_correct = list(0. for i in range(10))\n",
        "class_total = list(0. for i in range(10))\n",
        "with torch.no_grad():\n",
        "    for data in testloader:\n",
        "        images, labels = data\n",
        "        outputs = net(images)\n",
        "        _, predicted = torch.max(outputs, 1)\n",
        "        c = (predicted == labels).squeeze()\n",
        "        for i in range(4):\n",
        "            label = labels[i]\n",
        "            class_correct[label] += c[i].item()\n",
        "            class_total[label] += 1\n",
        "\n",
        "\n",
        "for i in range(10):\n",
        "    print('Accuracy of %5s : %2d %%' % (\n",
        "        classes[i], 100 * class_correct[i] / class_total[i]))"
      ],
      "execution_count": 14,
      "outputs": [
        {
          "output_type": "stream",
          "text": [
            "Accuracy of plane : 86 %\n",
            "Accuracy of   car : 95 %\n",
            "Accuracy of  bird : 76 %\n",
            "Accuracy of   cat : 81 %\n",
            "Accuracy of  deer : 96 %\n",
            "Accuracy of   dog : 69 %\n",
            "Accuracy of  frog : 81 %\n",
            "Accuracy of horse : 79 %\n",
            "Accuracy of  ship : 90 %\n",
            "Accuracy of truck : 79 %\n"
          ],
          "name": "stdout"
        }
      ]
    },
    {
      "cell_type": "markdown",
      "metadata": {
        "id": "EEqqywjbnUlp",
        "colab_type": "text"
      },
      "source": [
        ""
      ]
    },
    {
      "cell_type": "markdown",
      "metadata": {
        "id": "RsgplP906gAU",
        "colab_type": "text"
      },
      "source": [
        ""
      ]
    }
  ]
}