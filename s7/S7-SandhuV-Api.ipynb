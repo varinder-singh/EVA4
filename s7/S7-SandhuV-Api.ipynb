{
 "cells": [
  {
   "cell_type": "code",
   "execution_count": 1,
   "metadata": {},
   "outputs": [],
   "source": [
    "%matplotlib inline"
   ]
  },
  {
   "cell_type": "code",
   "execution_count": 2,
   "metadata": {},
   "outputs": [],
   "source": [
    "import torch\n",
    "import torch.nn as nn\n",
    "import torch.nn.functional as F"
   ]
  },
  {
   "cell_type": "code",
   "execution_count": 3,
   "metadata": {},
   "outputs": [
    {
     "name": "stdout",
     "output_type": "stream",
     "text": [
      "Files already downloaded and verified\n",
      "Files already downloaded and verified\n",
      "Is CUDA available:  True\n"
     ]
    }
   ],
   "source": [
    "import dataloader\n",
    "\n",
    "trainloader,testloader=dataloader.loadCiFAR10()\n"
   ]
  },
  {
   "cell_type": "code",
   "execution_count": 4,
   "metadata": {},
   "outputs": [
    {
     "name": "stdout",
     "output_type": "stream",
     "text": [
      "Defaulting to user installation because normal site-packages is not writeable\n",
      "Requirement already satisfied: torchsummary in /home/verito/.local/lib/python3.6/site-packages (1.5.1)\n",
      "cuda\n",
      "----------------------------------------------------------------\n",
      "        Layer (type)               Output Shape         Param #\n",
      "================================================================\n",
      "            Conv2d-1           [-1, 64, 32, 32]           1,728\n",
      "              ReLU-2           [-1, 64, 32, 32]               0\n",
      "       BatchNorm2d-3           [-1, 64, 32, 32]             128\n",
      "         Dropout2d-4           [-1, 64, 32, 32]               0\n",
      "         MaxPool2d-5           [-1, 64, 16, 16]               0\n",
      "            Conv2d-6          [-1, 128, 16, 16]          73,728\n",
      "              ReLU-7          [-1, 128, 16, 16]               0\n",
      "       BatchNorm2d-8          [-1, 128, 16, 16]             256\n",
      "         Dropout2d-9          [-1, 128, 16, 16]               0\n",
      "        MaxPool2d-10            [-1, 128, 8, 8]               0\n",
      "           Conv2d-11            [-1, 256, 8, 8]         294,912\n",
      "             ReLU-12            [-1, 256, 8, 8]               0\n",
      "      BatchNorm2d-13            [-1, 256, 8, 8]             512\n",
      "        Dropout2d-14            [-1, 256, 8, 8]               0\n",
      "        MaxPool2d-15            [-1, 256, 4, 4]               0\n",
      "           Conv2d-16            [-1, 256, 4, 4]           2,304\n",
      "           Conv2d-17            [-1, 512, 4, 4]         131,072\n",
      "             ReLU-18            [-1, 512, 4, 4]               0\n",
      "      BatchNorm2d-19            [-1, 512, 4, 4]           1,024\n",
      "        Dropout2d-20            [-1, 512, 4, 4]               0\n",
      "        AvgPool2d-21            [-1, 512, 1, 1]               0\n",
      "           Conv2d-22             [-1, 10, 1, 1]           5,120\n",
      "================================================================\n",
      "Total params: 510,784\n",
      "Trainable params: 510,784\n",
      "Non-trainable params: 0\n",
      "----------------------------------------------------------------\n",
      "Input size (MB): 0.01\n",
      "Forward/backward pass size (MB): 4.00\n",
      "Params size (MB): 1.95\n",
      "Estimated Total Size (MB): 5.96\n",
      "----------------------------------------------------------------\n"
     ]
    }
   ],
   "source": [
    "from model import Net\n",
    "!pip install torchsummary\n",
    "from torchsummary import summary\n",
    "use_cuda = torch.cuda.is_available()\n",
    "device = torch.device(\"cuda\" if use_cuda else \"cpu\")\n",
    "print(device)\n",
    "mymodel = Net().to(device)\n",
    "summary(mymodel, input_size=(3, 32, 32))"
   ]
  },
  {
   "cell_type": "code",
   "execution_count": 14,
   "metadata": {},
   "outputs": [
    {
     "name": "stdout",
     "output_type": "stream",
     "text": [
      "EPOCH:  0\n",
      "Attribute not found\n",
      "EPOCH:  1\n",
      "Attribute not found\n",
      "EPOCH:  2\n",
      "Attribute not found\n",
      "EPOCH:  3\n",
      "Attribute not found\n",
      "EPOCH:  4\n",
      "Attribute not found\n",
      "EPOCH:  5\n",
      "Attribute not found\n",
      "EPOCH:  6\n",
      "Attribute not found\n",
      "EPOCH:  7\n",
      "Attribute not found\n",
      "EPOCH:  8\n",
      "Attribute not found\n",
      "EPOCH:  9\n",
      "Attribute not found\n",
      "EPOCH:  10\n",
      "Attribute not found\n",
      "EPOCH:  11\n",
      "Attribute not found\n",
      "EPOCH:  12\n",
      "Attribute not found\n",
      "EPOCH:  13\n",
      "Attribute not found\n",
      "EPOCH:  14\n",
      "Attribute not found\n",
      "EPOCH:  15\n",
      "Attribute not found\n",
      "EPOCH:  16\n",
      "Attribute not found\n",
      "EPOCH:  17\n",
      "Attribute not found\n",
      "EPOCH:  18\n",
      "Attribute not found\n",
      "EPOCH:  19\n",
      "Attribute not found\n",
      "EPOCH:  20\n",
      "Attribute not found\n",
      "EPOCH:  21\n",
      "Attribute not found\n",
      "EPOCH:  22\n",
      "Attribute not found\n",
      "EPOCH:  23\n",
      "Attribute not found\n",
      "EPOCH:  24\n",
      "Attribute not found\n",
      "EPOCH:  25\n",
      "Attribute not found\n",
      "EPOCH:  26\n",
      "Attribute not found\n",
      "EPOCH:  27\n",
      "Attribute not found\n",
      "EPOCH:  28\n",
      "Attribute not found\n",
      "EPOCH:  29\n",
      "Attribute not found\n",
      "EPOCH:  30\n",
      "Attribute not found\n",
      "EPOCH:  31\n",
      "Attribute not found\n",
      "EPOCH:  32\n",
      "Attribute not found\n",
      "EPOCH:  33\n",
      "Attribute not found\n",
      "EPOCH:  34\n",
      "Attribute not found\n",
      "EPOCH:  35\n",
      "Attribute not found\n",
      "EPOCH:  36\n",
      "Attribute not found\n",
      "EPOCH:  37\n",
      "Attribute not found\n",
      "EPOCH:  38\n",
      "Attribute not found\n",
      "EPOCH:  39\n",
      "Attribute not found\n"
     ]
    }
   ],
   "source": [
    "import train, test\n",
    "\n",
    "\n",
    "net = Net()\n",
    "\n",
    "EPOCHS = 40\n",
    "for epoch in range(EPOCHS):  # loop over the dataset multiple times\n",
    "    print(\"EPOCH: \", epoch)\n",
    "    try:\n",
    "        train.train(net, device, trainloader, epoch, 'l1')\n",
    "        test.test(net, device, testloader, 'l1')\n",
    "    \n",
    "    except AttributeError:\n",
    "        print(\"Attribute not found\")\n",
    "    "
   ]
  },
  {
   "cell_type": "code",
   "execution_count": null,
   "metadata": {},
   "outputs": [],
   "source": []
  },
  {
   "cell_type": "code",
   "execution_count": null,
   "metadata": {},
   "outputs": [],
   "source": []
  }
 ],
 "metadata": {
  "kernelspec": {
   "display_name": "Python 3",
   "language": "python",
   "name": "python3"
  },
  "language_info": {
   "codemirror_mode": {
    "name": "ipython",
    "version": 3
   },
   "file_extension": ".py",
   "mimetype": "text/x-python",
   "name": "python",
   "nbconvert_exporter": "python",
   "pygments_lexer": "ipython3",
   "version": "3.6.9"
  }
 },
 "nbformat": 4,
 "nbformat_minor": 4
}
