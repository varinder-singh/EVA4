{
  "nbformat": 4,
  "nbformat_minor": 0,
  "metadata": {
    "kernelspec": {
      "display_name": "Python 3",
      "language": "python",
      "name": "python3"
    },
    "language_info": {
      "codemirror_mode": {
        "name": "ipython",
        "version": 3
      },
      "file_extension": ".py",
      "mimetype": "text/x-python",
      "name": "python",
      "nbconvert_exporter": "python",
      "pygments_lexer": "ipython3",
      "version": "3.6.9"
    },
    "colab": {
      "name": "S7-SandhuV-Api.ipynb",
      "provenance": [],
      "collapsed_sections": []
    }
  },
  "cells": [
    {
      "cell_type": "code",
      "metadata": {
        "id": "tqetwLUDVxE0",
        "colab_type": "code",
        "colab": {}
      },
      "source": [
        "%matplotlib inline"
      ],
      "execution_count": 0,
      "outputs": []
    },
    {
      "cell_type": "code",
      "metadata": {
        "id": "vEYY1Hv_WM2i",
        "colab_type": "code",
        "outputId": "753935f7-778e-4036-a275-c794b7ff3a01",
        "colab": {
          "base_uri": "https://localhost:8080/",
          "height": 52
        }
      },
      "source": [
        "from google.colab import drive\n",
        "drive.mount('/content/drive')\n",
        "# Change Directory on Gdrive\n",
        "%cd /content/drive/My \\Drive/Colab \\Notebooks/EVA4/S7-Assignment-Solution/"
      ],
      "execution_count": 2,
      "outputs": [
        {
          "output_type": "stream",
          "text": [
            "Drive already mounted at /content/drive; to attempt to forcibly remount, call drive.mount(\"/content/drive\", force_remount=True).\n",
            "/content/drive/My Drive/Colab Notebooks/EVA4/S7-Assignment-Solution\n"
          ],
          "name": "stdout"
        }
      ]
    },
    {
      "cell_type": "code",
      "metadata": {
        "id": "m1TjtX0IVxFC",
        "colab_type": "code",
        "colab": {}
      },
      "source": [
        "import torch\n",
        "import torch.nn as nn\n",
        "import torch.nn.functional as F"
      ],
      "execution_count": 0,
      "outputs": []
    },
    {
      "cell_type": "code",
      "metadata": {
        "id": "cgGE3mgIVxFN",
        "colab_type": "code",
        "outputId": "1c96585e-b6f5-4088-d388-f878c359e5ad",
        "colab": {
          "base_uri": "https://localhost:8080/",
          "height": 69
        }
      },
      "source": [
        "import dataloader\n",
        "\n",
        "trainloader,testloader=dataloader.loadCiFAR10()\n"
      ],
      "execution_count": 5,
      "outputs": [
        {
          "output_type": "stream",
          "text": [
            "Files already downloaded and verified\n",
            "Files already downloaded and verified\n",
            "Is CUDA available:  False\n"
          ],
          "name": "stdout"
        }
      ]
    },
    {
      "cell_type": "code",
      "metadata": {
        "id": "Yzrzc2FPVxFY",
        "colab_type": "code",
        "outputId": "7408f098-cd3a-4867-aa71-6bae7939d4ca",
        "colab": {
          "base_uri": "https://localhost:8080/",
          "height": 955
        }
      },
      "source": [
        "from model import Net\n",
        "!pip install torchsummary\n",
        "from torchsummary import summary\n",
        "use_cuda = torch.cuda.is_available()\n",
        "device = torch.device(\"cuda\" if use_cuda else \"cpu\")\n",
        "print(device)\n",
        "mymodel = Net().to(device)\n",
        "summary(mymodel, input_size=(3, 32, 32))"
      ],
      "execution_count": 6,
      "outputs": [
        {
          "output_type": "stream",
          "text": [
            "Requirement already satisfied: torchsummary in /usr/local/lib/python3.6/dist-packages (1.5.1)\n",
            "cpu\n",
            "----------------------------------------------------------------\n",
            "        Layer (type)               Output Shape         Param #\n",
            "================================================================\n",
            "            Conv2d-1           [-1, 32, 32, 32]             864\n",
            "              ReLU-2           [-1, 32, 32, 32]               0\n",
            "       BatchNorm2d-3           [-1, 32, 32, 32]              64\n",
            "            Conv2d-4           [-1, 32, 32, 32]           9,216\n",
            "              ReLU-5           [-1, 32, 32, 32]               0\n",
            "       BatchNorm2d-6           [-1, 32, 32, 32]              64\n",
            "         Dropout2d-7           [-1, 32, 32, 32]               0\n",
            "         MaxPool2d-8           [-1, 32, 16, 16]               0\n",
            "            Conv2d-9           [-1, 64, 16, 16]          18,432\n",
            "             ReLU-10           [-1, 64, 16, 16]               0\n",
            "      BatchNorm2d-11           [-1, 64, 16, 16]             128\n",
            "           Conv2d-12           [-1, 64, 16, 16]          36,864\n",
            "             ReLU-13           [-1, 64, 16, 16]               0\n",
            "      BatchNorm2d-14           [-1, 64, 16, 16]             128\n",
            "        Dropout2d-15           [-1, 64, 16, 16]               0\n",
            "        MaxPool2d-16             [-1, 64, 8, 8]               0\n",
            "           Conv2d-17            [-1, 128, 8, 8]          73,728\n",
            "             ReLU-18            [-1, 128, 8, 8]               0\n",
            "      BatchNorm2d-19            [-1, 128, 8, 8]             256\n",
            "           Conv2d-20            [-1, 128, 8, 8]         147,456\n",
            "             ReLU-21            [-1, 128, 8, 8]               0\n",
            "      BatchNorm2d-22            [-1, 128, 8, 8]             256\n",
            "        Dropout2d-23            [-1, 128, 8, 8]               0\n",
            "        MaxPool2d-24            [-1, 128, 4, 4]               0\n",
            "           Conv2d-25            [-1, 128, 4, 4]           1,152\n",
            "             ReLU-26            [-1, 128, 4, 4]               0\n",
            "      BatchNorm2d-27            [-1, 128, 4, 4]             256\n",
            "           Conv2d-28            [-1, 256, 4, 4]          32,768\n",
            "             ReLU-29            [-1, 256, 4, 4]               0\n",
            "      BatchNorm2d-30            [-1, 256, 4, 4]             512\n",
            "           Conv2d-31            [-1, 256, 4, 4]           2,304\n",
            "             ReLU-32            [-1, 256, 4, 4]               0\n",
            "      BatchNorm2d-33            [-1, 256, 4, 4]             512\n",
            "           Conv2d-34            [-1, 512, 4, 4]         131,072\n",
            "             ReLU-35            [-1, 512, 4, 4]               0\n",
            "      BatchNorm2d-36            [-1, 512, 4, 4]           1,024\n",
            "        Dropout2d-37            [-1, 512, 4, 4]               0\n",
            "        AvgPool2d-38            [-1, 512, 1, 1]               0\n",
            "           Conv2d-39             [-1, 10, 1, 1]           5,120\n",
            "================================================================\n",
            "Total params: 462,176\n",
            "Trainable params: 462,176\n",
            "Non-trainable params: 0\n",
            "----------------------------------------------------------------\n",
            "Input size (MB): 0.01\n",
            "Forward/backward pass size (MB): 3.66\n",
            "Params size (MB): 1.76\n",
            "Estimated Total Size (MB): 5.44\n",
            "----------------------------------------------------------------\n"
          ],
          "name": "stdout"
        }
      ]
    },
    {
      "cell_type": "code",
      "metadata": {
        "id": "-oDS-sG5VxFk",
        "colab_type": "code",
        "outputId": "8722240a-8ed9-42d0-cd6d-e62721156cc8",
        "colab": {
          "base_uri": "https://localhost:8080/",
          "height": 1000
        }
      },
      "source": [
        "import train, test\n",
        "\n",
        "\n",
        "net = Net()\n",
        "\n",
        "EPOCHS = 40\n",
        "for epoch in range(EPOCHS):  # loop over the dataset multiple times\n",
        "    print(\"EPOCH: \", epoch)\n",
        "    train.train(net, device, trainloader, epoch, 'l1')\n",
        "    test.test(net, device, testloader, 'l1')\n",
        "    "
      ],
      "execution_count": 7,
      "outputs": [
        {
          "output_type": "stream",
          "text": [
            "\r  0%|          | 0/782 [00:00<?, ?it/s]"
          ],
          "name": "stderr"
        },
        {
          "output_type": "stream",
          "text": [
            "Finished Training\n",
            "EPOCH:  0\n"
          ],
          "name": "stdout"
        },
        {
          "output_type": "stream",
          "text": [
            "Loss=1.5917636156082153 Batch_id=781 Accuracy=40.72: 100%|██████████| 782/782 [06:46<00:00,  2.47it/s]\n",
            "  0%|          | 0/782 [00:00<?, ?it/s]"
          ],
          "name": "stderr"
        },
        {
          "output_type": "stream",
          "text": [
            "\n",
            "Test Set: Average loss: 13839.505695343018, Accuracy: 4980/10000 (49.80%)\n",
            "\n",
            "Accuracy of the network on the 10000 test images: 49 %\n",
            "EPOCH:  1\n"
          ],
          "name": "stdout"
        },
        {
          "output_type": "stream",
          "text": [
            "Loss=1.3149847984313965 Batch_id=781 Accuracy=53.44: 100%|██████████| 782/782 [06:37<00:00,  2.52it/s]\n",
            "  0%|          | 0/782 [00:00<?, ?it/s]"
          ],
          "name": "stderr"
        },
        {
          "output_type": "stream",
          "text": [
            "\n",
            "Test Set: Average loss: 11577.772478103638, Accuracy: 5840/10000 (58.40%)\n",
            "\n",
            "Accuracy of the network on the 10000 test images: 58 %\n",
            "EPOCH:  2\n"
          ],
          "name": "stdout"
        },
        {
          "output_type": "stream",
          "text": [
            "Loss=1.2363699674606323 Batch_id=781 Accuracy=59.33: 100%|██████████| 782/782 [06:35<00:00,  2.52it/s]\n",
            "  0%|          | 0/782 [00:00<?, ?it/s]"
          ],
          "name": "stderr"
        },
        {
          "output_type": "stream",
          "text": [
            "\n",
            "Test Set: Average loss: 10648.938352584839, Accuracy: 6217/10000 (62.17%)\n",
            "\n",
            "Accuracy of the network on the 10000 test images: 62 %\n",
            "EPOCH:  3\n"
          ],
          "name": "stdout"
        },
        {
          "output_type": "stream",
          "text": [
            "Loss=0.8306142091751099 Batch_id=781 Accuracy=62.95: 100%|██████████| 782/782 [06:44<00:00,  2.39it/s]\n",
            "  0%|          | 0/782 [00:00<?, ?it/s]"
          ],
          "name": "stderr"
        },
        {
          "output_type": "stream",
          "text": [
            "\n",
            "Test Set: Average loss: 9533.095315933228, Accuracy: 6638/10000 (66.38%)\n",
            "\n",
            "Accuracy of the network on the 10000 test images: 66 %\n",
            "EPOCH:  4\n"
          ],
          "name": "stdout"
        },
        {
          "output_type": "stream",
          "text": [
            "Loss=1.1286137104034424 Batch_id=781 Accuracy=65.91: 100%|██████████| 782/782 [06:41<00:00,  2.17it/s]\n",
            "  0%|          | 0/782 [00:00<?, ?it/s]"
          ],
          "name": "stderr"
        },
        {
          "output_type": "stream",
          "text": [
            "\n",
            "Test Set: Average loss: 9031.374131202698, Accuracy: 6809/10000 (68.09%)\n",
            "\n",
            "Accuracy of the network on the 10000 test images: 68 %\n",
            "EPOCH:  5\n"
          ],
          "name": "stdout"
        },
        {
          "output_type": "stream",
          "text": [
            "Loss=1.208057165145874 Batch_id=781 Accuracy=68.01: 100%|██████████| 782/782 [06:52<00:00,  2.39it/s]\n",
            "  0%|          | 0/782 [00:00<?, ?it/s]"
          ],
          "name": "stderr"
        },
        {
          "output_type": "stream",
          "text": [
            "\n",
            "Test Set: Average loss: 8493.426410675049, Accuracy: 6994/10000 (69.94%)\n",
            "\n",
            "Accuracy of the network on the 10000 test images: 69 %\n",
            "EPOCH:  6\n"
          ],
          "name": "stdout"
        },
        {
          "output_type": "stream",
          "text": [
            "Loss=0.6205387711524963 Batch_id=781 Accuracy=69.87: 100%|██████████| 782/782 [06:50<00:00,  2.42it/s]\n",
            "  0%|          | 0/782 [00:00<?, ?it/s]"
          ],
          "name": "stderr"
        },
        {
          "output_type": "stream",
          "text": [
            "\n",
            "Test Set: Average loss: 8297.42766571045, Accuracy: 7107/10000 (71.07%)\n",
            "\n",
            "Accuracy of the network on the 10000 test images: 71 %\n",
            "EPOCH:  7\n"
          ],
          "name": "stdout"
        },
        {
          "output_type": "stream",
          "text": [
            "Loss=1.3943973779678345 Batch_id=781 Accuracy=71.19: 100%|██████████| 782/782 [06:56<00:00,  2.36it/s]\n",
            "  0%|          | 0/782 [00:00<?, ?it/s]"
          ],
          "name": "stderr"
        },
        {
          "output_type": "stream",
          "text": [
            "\n",
            "Test Set: Average loss: 7998.265798568726, Accuracy: 7207/10000 (72.07%)\n",
            "\n",
            "Accuracy of the network on the 10000 test images: 72 %\n",
            "EPOCH:  8\n"
          ],
          "name": "stdout"
        },
        {
          "output_type": "stream",
          "text": [
            "Loss=0.7683044672012329 Batch_id=781 Accuracy=72.21: 100%|██████████| 782/782 [06:57<00:00,  2.38it/s]\n",
            "  0%|          | 0/782 [00:00<?, ?it/s]"
          ],
          "name": "stderr"
        },
        {
          "output_type": "stream",
          "text": [
            "\n",
            "Test Set: Average loss: 7556.343071937561, Accuracy: 7386/10000 (73.86%)\n",
            "\n",
            "Accuracy of the network on the 10000 test images: 73 %\n",
            "EPOCH:  9\n"
          ],
          "name": "stdout"
        },
        {
          "output_type": "stream",
          "text": [
            "Loss=1.3349980115890503 Batch_id=781 Accuracy=73.10: 100%|██████████| 782/782 [06:52<00:00,  2.40it/s]\n",
            "  0%|          | 0/782 [00:00<?, ?it/s]"
          ],
          "name": "stderr"
        },
        {
          "output_type": "stream",
          "text": [
            "\n",
            "Test Set: Average loss: 7349.218564987183, Accuracy: 7465/10000 (74.65%)\n",
            "\n",
            "Accuracy of the network on the 10000 test images: 74 %\n",
            "EPOCH:  10\n"
          ],
          "name": "stdout"
        },
        {
          "output_type": "stream",
          "text": [
            "Loss=1.045753002166748 Batch_id=781 Accuracy=74.20: 100%|██████████| 782/782 [06:55<00:00,  2.40it/s]\n",
            "  0%|          | 0/782 [00:00<?, ?it/s]"
          ],
          "name": "stderr"
        },
        {
          "output_type": "stream",
          "text": [
            "\n",
            "Test Set: Average loss: 7276.015398979187, Accuracy: 7484/10000 (74.84%)\n",
            "\n",
            "Accuracy of the network on the 10000 test images: 74 %\n",
            "EPOCH:  11\n"
          ],
          "name": "stdout"
        },
        {
          "output_type": "stream",
          "text": [
            "Loss=0.4945632815361023 Batch_id=781 Accuracy=74.77: 100%|██████████| 782/782 [06:58<00:00,  2.37it/s]\n",
            "  0%|          | 0/782 [00:00<?, ?it/s]"
          ],
          "name": "stderr"
        },
        {
          "output_type": "stream",
          "text": [
            "\n",
            "Test Set: Average loss: 7113.9752407073975, Accuracy: 7519/10000 (75.19%)\n",
            "\n",
            "Accuracy of the network on the 10000 test images: 75 %\n",
            "EPOCH:  12\n"
          ],
          "name": "stdout"
        },
        {
          "output_type": "stream",
          "text": [
            "Loss=0.599186360836029 Batch_id=781 Accuracy=75.54: 100%|██████████| 782/782 [06:57<00:00,  2.34it/s]\n",
            "  0%|          | 0/782 [00:00<?, ?it/s]"
          ],
          "name": "stderr"
        },
        {
          "output_type": "stream",
          "text": [
            "\n",
            "Test Set: Average loss: 6876.027612686157, Accuracy: 7605/10000 (76.05%)\n",
            "\n",
            "Accuracy of the network on the 10000 test images: 76 %\n",
            "EPOCH:  13\n"
          ],
          "name": "stdout"
        },
        {
          "output_type": "stream",
          "text": [
            "Loss=0.6331857442855835 Batch_id=781 Accuracy=75.73: 100%|██████████| 782/782 [06:51<00:00,  2.41it/s]\n",
            "  0%|          | 0/782 [00:00<?, ?it/s]"
          ],
          "name": "stderr"
        },
        {
          "output_type": "stream",
          "text": [
            "\n",
            "Test Set: Average loss: 6737.28430557251, Accuracy: 7674/10000 (76.74%)\n",
            "\n",
            "Accuracy of the network on the 10000 test images: 76 %\n",
            "EPOCH:  14\n"
          ],
          "name": "stdout"
        },
        {
          "output_type": "stream",
          "text": [
            "Loss=0.4848667085170746 Batch_id=781 Accuracy=76.55: 100%|██████████| 782/782 [06:55<00:00,  2.37it/s]\n",
            "  0%|          | 0/782 [00:00<?, ?it/s]"
          ],
          "name": "stderr"
        },
        {
          "output_type": "stream",
          "text": [
            "\n",
            "Test Set: Average loss: 6775.328207015991, Accuracy: 7669/10000 (76.69%)\n",
            "\n",
            "Accuracy of the network on the 10000 test images: 76 %\n",
            "EPOCH:  15\n"
          ],
          "name": "stdout"
        },
        {
          "output_type": "stream",
          "text": [
            "Loss=0.5554487705230713 Batch_id=781 Accuracy=76.77: 100%|██████████| 782/782 [06:53<00:00,  2.37it/s]\n",
            "  0%|          | 0/782 [00:00<?, ?it/s]"
          ],
          "name": "stderr"
        },
        {
          "output_type": "stream",
          "text": [
            "\n",
            "Test Set: Average loss: 6674.912299156189, Accuracy: 7717/10000 (77.17%)\n",
            "\n",
            "Accuracy of the network on the 10000 test images: 77 %\n",
            "EPOCH:  16\n"
          ],
          "name": "stdout"
        },
        {
          "output_type": "stream",
          "text": [
            "Loss=0.7019486427307129 Batch_id=781 Accuracy=77.55: 100%|██████████| 782/782 [06:49<00:00,  2.40it/s]\n",
            "  0%|          | 0/782 [00:00<?, ?it/s]"
          ],
          "name": "stderr"
        },
        {
          "output_type": "stream",
          "text": [
            "\n",
            "Test Set: Average loss: 6664.597378730774, Accuracy: 7730/10000 (77.30%)\n",
            "\n",
            "Accuracy of the network on the 10000 test images: 77 %\n",
            "EPOCH:  17\n"
          ],
          "name": "stdout"
        },
        {
          "output_type": "stream",
          "text": [
            "Loss=0.46793368458747864 Batch_id=781 Accuracy=77.65: 100%|██████████| 782/782 [06:52<00:00,  2.31it/s]\n",
            "  0%|          | 0/782 [00:00<?, ?it/s]"
          ],
          "name": "stderr"
        },
        {
          "output_type": "stream",
          "text": [
            "\n",
            "Test Set: Average loss: 6490.98918056488, Accuracy: 7767/10000 (77.67%)\n",
            "\n",
            "Accuracy of the network on the 10000 test images: 77 %\n",
            "EPOCH:  18\n"
          ],
          "name": "stdout"
        },
        {
          "output_type": "stream",
          "text": [
            "Loss=1.1776313781738281 Batch_id=781 Accuracy=78.22: 100%|██████████| 782/782 [07:07<00:00,  2.33it/s]\n",
            "  0%|          | 0/782 [00:00<?, ?it/s]"
          ],
          "name": "stderr"
        },
        {
          "output_type": "stream",
          "text": [
            "\n",
            "Test Set: Average loss: 6407.943299293518, Accuracy: 7806/10000 (78.06%)\n",
            "\n",
            "Accuracy of the network on the 10000 test images: 78 %\n",
            "EPOCH:  19\n"
          ],
          "name": "stdout"
        },
        {
          "output_type": "stream",
          "text": [
            "Loss=1.0130633115768433 Batch_id=781 Accuracy=78.56: 100%|██████████| 782/782 [07:09<00:00,  2.27it/s]\n",
            "  0%|          | 0/782 [00:00<?, ?it/s]"
          ],
          "name": "stderr"
        },
        {
          "output_type": "stream",
          "text": [
            "\n",
            "Test Set: Average loss: 6287.705518245697, Accuracy: 7845/10000 (78.45%)\n",
            "\n",
            "Accuracy of the network on the 10000 test images: 78 %\n",
            "EPOCH:  20\n"
          ],
          "name": "stdout"
        },
        {
          "output_type": "stream",
          "text": [
            "Loss=0.6484222412109375 Batch_id=781 Accuracy=78.70: 100%|██████████| 782/782 [07:16<00:00,  2.25it/s]\n",
            "  0%|          | 0/782 [00:00<?, ?it/s]"
          ],
          "name": "stderr"
        },
        {
          "output_type": "stream",
          "text": [
            "\n",
            "Test Set: Average loss: 6204.841946601868, Accuracy: 7903/10000 (79.03%)\n",
            "\n",
            "Accuracy of the network on the 10000 test images: 79 %\n",
            "EPOCH:  21\n"
          ],
          "name": "stdout"
        },
        {
          "output_type": "stream",
          "text": [
            "Loss=1.267625331878662 Batch_id=781 Accuracy=79.16: 100%|██████████| 782/782 [07:15<00:00,  2.26it/s]\n",
            "  0%|          | 0/782 [00:00<?, ?it/s]"
          ],
          "name": "stderr"
        },
        {
          "output_type": "stream",
          "text": [
            "\n",
            "Test Set: Average loss: 6157.788805007935, Accuracy: 7875/10000 (78.75%)\n",
            "\n",
            "Accuracy of the network on the 10000 test images: 78 %\n",
            "EPOCH:  22\n"
          ],
          "name": "stdout"
        },
        {
          "output_type": "stream",
          "text": [
            "Loss=1.2473756074905396 Batch_id=781 Accuracy=79.31: 100%|██████████| 782/782 [07:17<00:00,  2.27it/s]\n",
            "  0%|          | 0/782 [00:00<?, ?it/s]"
          ],
          "name": "stderr"
        },
        {
          "output_type": "stream",
          "text": [
            "\n",
            "Test Set: Average loss: 6104.903774738312, Accuracy: 7903/10000 (79.03%)\n",
            "\n",
            "Accuracy of the network on the 10000 test images: 79 %\n",
            "EPOCH:  23\n"
          ],
          "name": "stdout"
        },
        {
          "output_type": "stream",
          "text": [
            "Loss=1.1547433137893677 Batch_id=781 Accuracy=79.81: 100%|██████████| 782/782 [07:14<00:00,  2.27it/s]\n",
            "  0%|          | 0/782 [00:00<?, ?it/s]"
          ],
          "name": "stderr"
        },
        {
          "output_type": "stream",
          "text": [
            "\n",
            "Test Set: Average loss: 6068.327964782715, Accuracy: 7929/10000 (79.29%)\n",
            "\n",
            "Accuracy of the network on the 10000 test images: 79 %\n",
            "EPOCH:  24\n"
          ],
          "name": "stdout"
        },
        {
          "output_type": "stream",
          "text": [
            "Loss=0.5337244868278503 Batch_id=781 Accuracy=79.91: 100%|██████████| 782/782 [07:14<00:00,  2.29it/s]\n",
            "  0%|          | 0/782 [00:00<?, ?it/s]"
          ],
          "name": "stderr"
        },
        {
          "output_type": "stream",
          "text": [
            "\n",
            "Test Set: Average loss: 5995.66231918335, Accuracy: 7924/10000 (79.24%)\n",
            "\n",
            "Accuracy of the network on the 10000 test images: 79 %\n",
            "EPOCH:  25\n"
          ],
          "name": "stdout"
        },
        {
          "output_type": "stream",
          "text": [
            "Loss=0.5289322137832642 Batch_id=781 Accuracy=80.21: 100%|██████████| 782/782 [07:16<00:00,  2.27it/s]\n",
            "  0%|          | 0/782 [00:00<?, ?it/s]"
          ],
          "name": "stderr"
        },
        {
          "output_type": "stream",
          "text": [
            "\n",
            "Test Set: Average loss: 5977.138896942139, Accuracy: 7964/10000 (79.64%)\n",
            "\n",
            "Accuracy of the network on the 10000 test images: 79 %\n",
            "EPOCH:  26\n"
          ],
          "name": "stdout"
        },
        {
          "output_type": "stream",
          "text": [
            "Loss=0.16149677336215973 Batch_id=781 Accuracy=80.35: 100%|██████████| 782/782 [07:16<00:00,  2.27it/s]\n",
            "  0%|          | 0/782 [00:00<?, ?it/s]"
          ],
          "name": "stderr"
        },
        {
          "output_type": "stream",
          "text": [
            "\n",
            "Test Set: Average loss: 5861.8511419296265, Accuracy: 8040/10000 (80.40%)\n",
            "\n",
            "Accuracy of the network on the 10000 test images: 80 %\n",
            "EPOCH:  27\n"
          ],
          "name": "stdout"
        },
        {
          "output_type": "stream",
          "text": [
            "Loss=0.5616325736045837 Batch_id=781 Accuracy=80.38: 100%|██████████| 782/782 [07:12<00:00,  2.28it/s]\n",
            "  0%|          | 0/782 [00:00<?, ?it/s]"
          ],
          "name": "stderr"
        },
        {
          "output_type": "stream",
          "text": [
            "\n",
            "Test Set: Average loss: 5993.038581371307, Accuracy: 7975/10000 (79.75%)\n",
            "\n",
            "Accuracy of the network on the 10000 test images: 79 %\n",
            "EPOCH:  28\n"
          ],
          "name": "stdout"
        },
        {
          "output_type": "stream",
          "text": [
            "Loss=0.9888559579849243 Batch_id=781 Accuracy=80.89: 100%|██████████| 782/782 [07:12<00:00,  2.31it/s]\n",
            "  0%|          | 0/782 [00:00<?, ?it/s]"
          ],
          "name": "stderr"
        },
        {
          "output_type": "stream",
          "text": [
            "\n",
            "Test Set: Average loss: 5849.250590324402, Accuracy: 7978/10000 (79.78%)\n",
            "\n",
            "Accuracy of the network on the 10000 test images: 79 %\n",
            "EPOCH:  29\n"
          ],
          "name": "stdout"
        },
        {
          "output_type": "stream",
          "text": [
            "Loss=0.5274905562400818 Batch_id=781 Accuracy=80.96: 100%|██████████| 782/782 [07:04<00:00,  2.44it/s]\n",
            "  0%|          | 0/782 [00:00<?, ?it/s]"
          ],
          "name": "stderr"
        },
        {
          "output_type": "stream",
          "text": [
            "\n",
            "Test Set: Average loss: 5756.775301933289, Accuracy: 8041/10000 (80.41%)\n",
            "\n",
            "Accuracy of the network on the 10000 test images: 80 %\n",
            "EPOCH:  30\n"
          ],
          "name": "stdout"
        },
        {
          "output_type": "stream",
          "text": [
            "Loss=0.6033226251602173 Batch_id=781 Accuracy=81.33: 100%|██████████| 782/782 [06:50<00:00,  2.46it/s]\n",
            "  0%|          | 0/782 [00:00<?, ?it/s]"
          ],
          "name": "stderr"
        },
        {
          "output_type": "stream",
          "text": [
            "\n",
            "Test Set: Average loss: 5648.785161018372, Accuracy: 8086/10000 (80.86%)\n",
            "\n",
            "Accuracy of the network on the 10000 test images: 80 %\n",
            "EPOCH:  31\n"
          ],
          "name": "stdout"
        },
        {
          "output_type": "stream",
          "text": [
            "Loss=0.47805044054985046 Batch_id=781 Accuracy=81.30: 100%|██████████| 782/782 [06:40<00:00,  2.43it/s]\n",
            "  0%|          | 0/782 [00:00<?, ?it/s]"
          ],
          "name": "stderr"
        },
        {
          "output_type": "stream",
          "text": [
            "\n",
            "Test Set: Average loss: 5655.464829444885, Accuracy: 8088/10000 (80.88%)\n",
            "\n",
            "Accuracy of the network on the 10000 test images: 80 %\n",
            "EPOCH:  32\n"
          ],
          "name": "stdout"
        },
        {
          "output_type": "stream",
          "text": [
            "Loss=0.38604646921157837 Batch_id=781 Accuracy=81.27: 100%|██████████| 782/782 [06:43<00:00,  2.48it/s]\n",
            "  0%|          | 0/782 [00:00<?, ?it/s]"
          ],
          "name": "stderr"
        },
        {
          "output_type": "stream",
          "text": [
            "\n",
            "Test Set: Average loss: 5844.199917793274, Accuracy: 8040/10000 (80.40%)\n",
            "\n",
            "Accuracy of the network on the 10000 test images: 80 %\n",
            "EPOCH:  33\n"
          ],
          "name": "stdout"
        },
        {
          "output_type": "stream",
          "text": [
            "Loss=0.5604965090751648 Batch_id=781 Accuracy=81.36: 100%|██████████| 782/782 [06:40<00:00,  2.39it/s]\n",
            "  0%|          | 0/782 [00:00<?, ?it/s]"
          ],
          "name": "stderr"
        },
        {
          "output_type": "stream",
          "text": [
            "\n",
            "Test Set: Average loss: 5694.884313583374, Accuracy: 8060/10000 (80.60%)\n",
            "\n",
            "Accuracy of the network on the 10000 test images: 80 %\n",
            "EPOCH:  34\n"
          ],
          "name": "stdout"
        },
        {
          "output_type": "stream",
          "text": [
            "Loss=0.5888288617134094 Batch_id=781 Accuracy=81.92: 100%|██████████| 782/782 [06:51<00:00,  2.42it/s]\n",
            "  0%|          | 0/782 [00:00<?, ?it/s]"
          ],
          "name": "stderr"
        },
        {
          "output_type": "stream",
          "text": [
            "\n",
            "Test Set: Average loss: 5654.270694732666, Accuracy: 8063/10000 (80.63%)\n",
            "\n",
            "Accuracy of the network on the 10000 test images: 80 %\n",
            "EPOCH:  35\n"
          ],
          "name": "stdout"
        },
        {
          "output_type": "stream",
          "text": [
            "Loss=0.7168363928794861 Batch_id=781 Accuracy=82.11: 100%|██████████| 782/782 [06:50<00:00,  2.39it/s]\n",
            "  0%|          | 0/782 [00:00<?, ?it/s]"
          ],
          "name": "stderr"
        },
        {
          "output_type": "stream",
          "text": [
            "\n",
            "Test Set: Average loss: 5688.761884689331, Accuracy: 8072/10000 (80.72%)\n",
            "\n",
            "Accuracy of the network on the 10000 test images: 80 %\n",
            "EPOCH:  36\n"
          ],
          "name": "stdout"
        },
        {
          "output_type": "stream",
          "text": [
            "Loss=0.4387925863265991 Batch_id=781 Accuracy=81.84: 100%|██████████| 782/782 [06:56<00:00,  2.42it/s]\n",
            "  0%|          | 0/782 [00:00<?, ?it/s]"
          ],
          "name": "stderr"
        },
        {
          "output_type": "stream",
          "text": [
            "\n",
            "Test Set: Average loss: 5686.312670707703, Accuracy: 8024/10000 (80.24%)\n",
            "\n",
            "Accuracy of the network on the 10000 test images: 80 %\n",
            "EPOCH:  37\n"
          ],
          "name": "stdout"
        },
        {
          "output_type": "stream",
          "text": [
            "Loss=1.1700034141540527 Batch_id=781 Accuracy=82.20: 100%|██████████| 782/782 [06:48<00:00,  2.38it/s]\n",
            "  0%|          | 0/782 [00:00<?, ?it/s]"
          ],
          "name": "stderr"
        },
        {
          "output_type": "stream",
          "text": [
            "\n",
            "Test Set: Average loss: 5517.283987045288, Accuracy: 8146/10000 (81.46%)\n",
            "\n",
            "Accuracy of the network on the 10000 test images: 81 %\n",
            "EPOCH:  38\n"
          ],
          "name": "stdout"
        },
        {
          "output_type": "stream",
          "text": [
            "Loss=0.6719171404838562 Batch_id=781 Accuracy=82.36: 100%|██████████| 782/782 [06:57<00:00,  2.37it/s]\n",
            "  0%|          | 0/782 [00:00<?, ?it/s]"
          ],
          "name": "stderr"
        },
        {
          "output_type": "stream",
          "text": [
            "\n",
            "Test Set: Average loss: 5548.936683654785, Accuracy: 8109/10000 (81.09%)\n",
            "\n",
            "Accuracy of the network on the 10000 test images: 81 %\n",
            "EPOCH:  39\n"
          ],
          "name": "stdout"
        },
        {
          "output_type": "stream",
          "text": [
            "Loss=0.24673423171043396 Batch_id=781 Accuracy=82.39: 100%|██████████| 782/782 [06:52<00:00,  2.50it/s]\n"
          ],
          "name": "stderr"
        },
        {
          "output_type": "stream",
          "text": [
            "\n",
            "Test Set: Average loss: 5530.798484802246, Accuracy: 8129/10000 (81.29%)\n",
            "\n",
            "Accuracy of the network on the 10000 test images: 81 %\n"
          ],
          "name": "stdout"
        }
      ]
    }
  ]
}