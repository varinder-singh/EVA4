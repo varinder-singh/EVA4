{
 "cells": [
  {
   "cell_type": "code",
   "execution_count": 1,
   "metadata": {},
   "outputs": [],
   "source": [
    "from custom_data_loader import ImageDataSet\n",
    "from PIL import Image\n",
    "def pil_loader(path):\n",
    "    # open path as file to avoid ResourceWarning (https://github.com/python-pillow/Pillow/issues/835)\n",
    "    with open(path, 'rb') as f:\n",
    "        img = Image.open(f)\n",
    "        return img.convert('RGB')\n",
    "\n",
    "loader_1 = ImageDataSet(image_loader=pil_loader)"
   ]
  },
  {
   "cell_type": "code",
   "execution_count": null,
   "metadata": {},
   "outputs": [
    {
     "name": "stdout",
     "output_type": "stream",
     "text": [
      "Img_Range 40 FG_Fldr_Range 100 and BG_Fldr_Range\n"
     ]
    }
   ],
   "source": [
    "batch_size = 40\n",
    "batch_count = 2\n",
    "\n",
    "img = loader_1[40000]"
   ]
  },
  {
   "cell_type": "code",
   "execution_count": 7,
   "metadata": {},
   "outputs": [
    {
     "data": {
      "text/plain": [
       "4000"
      ]
     },
     "execution_count": 7,
     "metadata": {},
     "output_type": "execute_result"
    }
   ],
   "source": [
    "len(img)"
   ]
  },
  {
   "cell_type": "code",
   "execution_count": 42,
   "metadata": {},
   "outputs": [],
   "source": [
    "import os\n",
    "import itertools\n",
    "root='/home/varinder/Documents/EVA4/S14-15/Dataset/Dataset-S15/'\n",
    "\n",
    "files = [os.listdir(os.path.join(root, 'bg{0}/fg_{1}/overlay'.format(i,j))) for i, j in itertools.product(range(1,101), range(1,101))]\n",
    "\n",
    "\n",
    "def pil_loader(path):\n",
    "    # open path as file to avoid ResourceWarning (https://github.com/python-pillow/Pillow/issues/835)\n",
    "    with open(path, 'rb') as f:\n",
    "        img = Image.open(f)\n",
    "        return img.convert('RGB')"
   ]
  },
  {
   "cell_type": "code",
   "execution_count": 43,
   "metadata": {},
   "outputs": [
    {
     "data": {
      "text/plain": [
       "36"
      ]
     },
     "execution_count": 43,
     "metadata": {},
     "output_type": "execute_result"
    }
   ],
   "source": [
    "import itertools\n",
    "size = 240\n",
    "if size//40 == 0:\n",
    "    image_range = size\n",
    "    fldr_range = 1\n",
    "else:\n",
    "    image_range=40\n",
    "    fldr_range = size//40\n",
    "\n",
    "len([files[i][j][k] for (i, (j, k)) in itertools.product(range(1,5), itertools.product(range(0,3), range(0,3)))])"
   ]
  },
  {
   "cell_type": "code",
   "execution_count": 55,
   "metadata": {},
   "outputs": [
    {
     "data": {
      "text/plain": [
       "10000"
      ]
     },
     "execution_count": 55,
     "metadata": {},
     "output_type": "execute_result"
    }
   ],
   "source": [
    "len(files)"
   ]
  },
  {
   "cell_type": "code",
   "execution_count": 44,
   "metadata": {},
   "outputs": [],
   "source": [
    "images = [files[i][j][k] \n",
    "          for (i, (j, k)) in \n",
    "          itertools.product(range(1,5), itertools.product(range(0,3), range(0,3)))]"
   ]
  },
  {
   "cell_type": "code",
   "execution_count": 67,
   "metadata": {},
   "outputs": [
    {
     "data": {
      "text/plain": [
       "81"
      ]
     },
     "execution_count": 67,
     "metadata": {},
     "output_type": "execute_result"
    }
   ],
   "source": [
    "files = []\n",
    "for i, j in itertools.product(range(1,10), range(1,10)):\n",
    "    files.append([os.listdir(os.path.join(root, 'bg{}/fg_{}/overlay'.format(i,j)))])\n",
    "    #print(\"i {}, j {}\".format(i,j))\n",
    "\n",
    "len(files)"
   ]
  },
  {
   "cell_type": "code",
   "execution_count": 32,
   "metadata": {},
   "outputs": [
    {
     "name": "stdout",
     "output_type": "stream",
     "text": [
      "i 1, j 0 ,k 0 \n",
      "i 1, j 0 ,k 1 \n",
      "i 1, j 0 ,k 2 \n",
      "i 1, j 1 ,k 0 \n",
      "i 1, j 1 ,k 1 \n",
      "i 1, j 1 ,k 2 \n",
      "i 1, j 2 ,k 0 \n",
      "i 1, j 2 ,k 1 \n",
      "i 1, j 2 ,k 2 \n",
      "i 2, j 0 ,k 0 \n",
      "i 2, j 0 ,k 1 \n",
      "i 2, j 0 ,k 2 \n",
      "i 2, j 1 ,k 0 \n",
      "i 2, j 1 ,k 1 \n",
      "i 2, j 1 ,k 2 \n",
      "i 2, j 2 ,k 0 \n",
      "i 2, j 2 ,k 1 \n",
      "i 2, j 2 ,k 2 \n",
      "i 3, j 0 ,k 0 \n",
      "i 3, j 0 ,k 1 \n",
      "i 3, j 0 ,k 2 \n",
      "i 3, j 1 ,k 0 \n",
      "i 3, j 1 ,k 1 \n",
      "i 3, j 1 ,k 2 \n",
      "i 3, j 2 ,k 0 \n",
      "i 3, j 2 ,k 1 \n",
      "i 3, j 2 ,k 2 \n",
      "i 4, j 0 ,k 0 \n",
      "i 4, j 0 ,k 1 \n",
      "i 4, j 0 ,k 2 \n",
      "i 4, j 1 ,k 0 \n",
      "i 4, j 1 ,k 1 \n",
      "i 4, j 1 ,k 2 \n",
      "i 4, j 2 ,k 0 \n",
      "i 4, j 2 ,k 1 \n",
      "i 4, j 2 ,k 2 \n"
     ]
    }
   ],
   "source": [
    "# import itertools\n",
    "\n",
    "# elements=[[1, 2, 3], [5, 4, 6]]\n",
    "# product=list(itertools.product(*elements))\n",
    "# print(product)\n",
    "for (i, (j, k)) in itertools.product(range(1,5), itertools.product(range(0,3), range(0,3))):\n",
    "    print(\"i {}, j {} ,k {} \".format(i,j,k))"
   ]
  },
  {
   "cell_type": "markdown",
   "metadata": {},
   "source": [
    "## Mean and Standard Deviation calculations"
   ]
  },
  {
   "cell_type": "code",
   "execution_count": 13,
   "metadata": {},
   "outputs": [
    {
     "name": "stdout",
     "output_type": "stream",
     "text": [
      "Standard Deviation :  nan\n",
      "Mean :  nan\n"
     ]
    }
   ],
   "source": [
    "import glob\n",
    "from PIL import Image\n",
    "import numpy as np\n",
    "import itertools\n",
    "\n",
    "sd=[]\n",
    "mean = []\n",
    "\n",
    "for i,j in itertools.product(range(1,10), range(1,10)):\n",
    "    root_dir_path = '''/home/varinder/Documents/EVA4/S14-15/Dataset/Dataset-S15/bg\n",
    "    {}/fg_{}/overlay'''.format(i,j)\n",
    "    for filename in glob.glob(root_dir_path+'/*.jpg'):\n",
    "        img = Image.open(filename)\n",
    "        imarr = np.array(img,dtype=np.float)\n",
    "        mean.append(np.mean(imarr))\n",
    "        sd.append(np.std(imarr))\n",
    "    \n",
    "\n",
    "\n",
    "print(\"Standard Deviation : \",np.std(sd))\n",
    "print(\"Mean : \", np.mean(mean))"
   ]
  }
 ],
 "metadata": {
  "kernelspec": {
   "display_name": "Python 3",
   "language": "python",
   "name": "python3"
  },
  "language_info": {
   "codemirror_mode": {
    "name": "ipython",
    "version": 3
   },
   "file_extension": ".py",
   "mimetype": "text/x-python",
   "name": "python",
   "nbconvert_exporter": "python",
   "pygments_lexer": "ipython3",
   "version": "3.7.2"
  }
 },
 "nbformat": 4,
 "nbformat_minor": 2
}
