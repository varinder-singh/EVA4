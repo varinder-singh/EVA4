{
 "cells": [
  {
   "cell_type": "markdown",
   "metadata": {},
   "source": [
    "#               Initialize the model\n",
    "\n",
    "## Modified the last used resnet18 model by introducing a maxpool layer after preparation layer to match TinyImagenet-200 dataset size which is 64x64\n",
    "## Modification is as per ResNet 18 State-Of-The-Art Architecture"
   ]
  },
  {
   "cell_type": "code",
   "execution_count": 1,
   "metadata": {},
   "outputs": [
    {
     "name": "stdout",
     "output_type": "stream",
     "text": [
      "cuda\n",
      "----------------------------------------------------------------\n",
      "        Layer (type)               Output Shape         Param #\n",
      "================================================================\n",
      "            Conv2d-1           [-1, 64, 64, 64]           1,728\n",
      "       BatchNorm2d-2           [-1, 64, 64, 64]             128\n",
      "         MaxPool2d-3           [-1, 64, 32, 32]               0\n",
      "            Conv2d-4           [-1, 64, 32, 32]          36,864\n",
      "       BatchNorm2d-5           [-1, 64, 32, 32]             128\n",
      "            Conv2d-6           [-1, 64, 32, 32]          36,864\n",
      "       BatchNorm2d-7           [-1, 64, 32, 32]             128\n",
      "        BasicBlock-8           [-1, 64, 32, 32]               0\n",
      "            Conv2d-9           [-1, 64, 32, 32]          36,864\n",
      "      BatchNorm2d-10           [-1, 64, 32, 32]             128\n",
      "           Conv2d-11           [-1, 64, 32, 32]          36,864\n",
      "      BatchNorm2d-12           [-1, 64, 32, 32]             128\n",
      "       BasicBlock-13           [-1, 64, 32, 32]               0\n",
      "           Conv2d-14          [-1, 128, 16, 16]          73,728\n",
      "      BatchNorm2d-15          [-1, 128, 16, 16]             256\n",
      "           Conv2d-16          [-1, 128, 16, 16]         147,456\n",
      "      BatchNorm2d-17          [-1, 128, 16, 16]             256\n",
      "           Conv2d-18          [-1, 128, 16, 16]           8,192\n",
      "      BatchNorm2d-19          [-1, 128, 16, 16]             256\n",
      "       BasicBlock-20          [-1, 128, 16, 16]               0\n",
      "           Conv2d-21          [-1, 128, 16, 16]         147,456\n",
      "      BatchNorm2d-22          [-1, 128, 16, 16]             256\n",
      "           Conv2d-23          [-1, 128, 16, 16]         147,456\n",
      "      BatchNorm2d-24          [-1, 128, 16, 16]             256\n",
      "       BasicBlock-25          [-1, 128, 16, 16]               0\n",
      "           Conv2d-26            [-1, 256, 8, 8]         294,912\n",
      "      BatchNorm2d-27            [-1, 256, 8, 8]             512\n",
      "           Conv2d-28            [-1, 256, 8, 8]         589,824\n",
      "      BatchNorm2d-29            [-1, 256, 8, 8]             512\n",
      "           Conv2d-30            [-1, 256, 8, 8]          32,768\n",
      "      BatchNorm2d-31            [-1, 256, 8, 8]             512\n",
      "       BasicBlock-32            [-1, 256, 8, 8]               0\n",
      "           Conv2d-33            [-1, 256, 8, 8]         589,824\n",
      "      BatchNorm2d-34            [-1, 256, 8, 8]             512\n",
      "           Conv2d-35            [-1, 256, 8, 8]         589,824\n",
      "      BatchNorm2d-36            [-1, 256, 8, 8]             512\n",
      "       BasicBlock-37            [-1, 256, 8, 8]               0\n",
      "           Conv2d-38            [-1, 512, 4, 4]       1,179,648\n",
      "      BatchNorm2d-39            [-1, 512, 4, 4]           1,024\n",
      "           Conv2d-40            [-1, 512, 4, 4]       2,359,296\n",
      "      BatchNorm2d-41            [-1, 512, 4, 4]           1,024\n",
      "           Conv2d-42            [-1, 512, 4, 4]         131,072\n",
      "      BatchNorm2d-43            [-1, 512, 4, 4]           1,024\n",
      "       BasicBlock-44            [-1, 512, 4, 4]               0\n",
      "           Conv2d-45            [-1, 512, 4, 4]       2,359,296\n",
      "      BatchNorm2d-46            [-1, 512, 4, 4]           1,024\n",
      "           Conv2d-47            [-1, 512, 4, 4]       2,359,296\n",
      "      BatchNorm2d-48            [-1, 512, 4, 4]           1,024\n",
      "       BasicBlock-49            [-1, 512, 4, 4]               0\n",
      "           Linear-50                  [-1, 200]         102,600\n",
      "================================================================\n",
      "Total params: 11,271,432\n",
      "Trainable params: 11,271,432\n",
      "Non-trainable params: 0\n",
      "----------------------------------------------------------------\n",
      "Input size (MB): 0.05\n",
      "Forward/backward pass size (MB): 14.75\n",
      "Params size (MB): 43.00\n",
      "Estimated Total Size (MB): 57.80\n",
      "----------------------------------------------------------------\n"
     ]
    }
   ],
   "source": [
    "import torch\n",
    "\n",
    "from model import ResNetA12 as resnet\n",
    "import importlib\n",
    "importlib.reload(resnet)\n",
    "from torchsummary import summary\n",
    "use_cuda = torch.cuda.is_available()\n",
    "device = torch.device(\"cuda\" if use_cuda else \"cpu\")\n",
    "print(device)\n",
    "mymodel = resnet.ResNet18().to(device)\n",
    "summary(mymodel, input_size=(3, 64, 64))"
   ]
  },
  {
   "cell_type": "markdown",
   "metadata": {},
   "source": [
    "# Generate DataSet and DataLoader for Training and Testing\n",
    "\n",
    "### 1. Set the rootpath to the path where data is stored after processing it. Check Preprocessing.ipynb\n",
    "### 2. Any transformations\n",
    "### 3. Generate train loader and test loader\n",
    "\n",
    "#### Note - Custom Dataset is used here see the project structure to find TinyImagenetDataSetBuilder"
   ]
  },
  {
   "cell_type": "code",
   "execution_count": 2,
   "metadata": {},
   "outputs": [
    {
     "name": "stdout",
     "output_type": "stream",
     "text": [
      "Is CUDA available:  True\n"
     ]
    }
   ],
   "source": [
    "import torch \n",
    "import torchvision\n",
    "from TinyImagenetDataSetBuilder import DataSetBuilder\n",
    "import torchvision.transforms as transforms\n",
    "\n",
    "train_processed_data_path = './'\n",
    "test_processed_data_path = './'\n",
    "SEED = 1\n",
    "# Check if CUDA is available\n",
    "cuda = torch.cuda.is_available()\n",
    "print(\"Is CUDA available: \", cuda)\n",
    "\n",
    "torch.manual_seed(SEED)\n",
    "\n",
    "if cuda:\n",
    "    torch.cuda.manual_seed(SEED)\n",
    "    \n",
    "transform = transforms.Compose(\n",
    "            [transforms.ToTensor()]\n",
    "        )\n",
    "dataloader_args = dict(shuffle=False, batch_size=200, num_workers=0, pin_memory=True) if cuda else dict(shuffle=False, batch_size=32)\n",
    "# Generators\n",
    "trainset = DataSetBuilder(train_processed_data_path, transform)\n",
    "trainloader = torch.utils.data.DataLoader(trainset, **dataloader_args)\n",
    "\n",
    "testset = DataSetBuilder(test_processed_data_path, False, transform)\n",
    "\n",
    "testloader = torch.utils.data.DataLoader(testset, **dataloader_args)"
   ]
  },
  {
   "cell_type": "markdown",
   "metadata": {},
   "source": [
    "# Throw the model to find Train and Test Accuracies\n",
    "### 1. Using SGD optimizer\n",
    "### 2. Using L2 regularization to avoid overfitting.\n",
    "#### Note -  Saving the model with epoch value, model and optimizer state parameters. Helps to re-run from the interupted training point."
   ]
  },
  {
   "cell_type": "code",
   "execution_count": 3,
   "metadata": {},
   "outputs": [
    {
     "name": "stderr",
     "output_type": "stream",
     "text": [
      "\r",
      "  0%|          | 0/165 [00:00<?, ?it/s]"
     ]
    },
    {
     "name": "stdout",
     "output_type": "stream",
     "text": [
      "Finished Training\n",
      "Finished Training\n",
      "EPOCH:  0\n"
     ]
    },
    {
     "name": "stderr",
     "output_type": "stream",
     "text": [
      "Loss=5.044056415557861 Batch_id=164 Accuracy=97.38: 100%|██████████| 165/165 [01:17<00:00,  2.13it/s] \n",
      "  0%|          | 0/165 [00:00<?, ?it/s]"
     ]
    },
    {
     "name": "stdout",
     "output_type": "stream",
     "text": [
      "\n",
      "Test Set: Average loss: -17328.899993896484, Accuracy: 1606/33000 (4.87%)\n",
      "\n",
      "EPOCH:  1\n"
     ]
    },
    {
     "name": "stderr",
     "output_type": "stream",
     "text": [
      "Loss=4.750633716583252 Batch_id=164 Accuracy=100.52: 100%|██████████| 165/165 [01:16<00:00,  2.17it/s] \n",
      "  0%|          | 0/165 [00:00<?, ?it/s]"
     ]
    },
    {
     "name": "stdout",
     "output_type": "stream",
     "text": [
      "\n",
      "Test Set: Average loss: -33405.774002075195, Accuracy: 2712/33000 (8.22%)\n",
      "\n",
      "EPOCH:  2\n"
     ]
    },
    {
     "name": "stderr",
     "output_type": "stream",
     "text": [
      "Loss=4.487765312194824 Batch_id=164 Accuracy=104.62: 100%|██████████| 165/165 [01:16<00:00,  2.17it/s] \n",
      "  0%|          | 0/165 [00:00<?, ?it/s]"
     ]
    },
    {
     "name": "stdout",
     "output_type": "stream",
     "text": [
      "\n",
      "Test Set: Average loss: -47716.081298828125, Accuracy: 3635/33000 (11.02%)\n",
      "\n",
      "EPOCH:  3\n"
     ]
    },
    {
     "name": "stderr",
     "output_type": "stream",
     "text": [
      "Loss=4.275661468505859 Batch_id=164 Accuracy=106.89: 100%|██████████| 165/165 [01:16<00:00,  2.15it/s] \n",
      "  0%|          | 0/165 [00:00<?, ?it/s]"
     ]
    },
    {
     "name": "stdout",
     "output_type": "stream",
     "text": [
      "\n",
      "Test Set: Average loss: -61240.17965698242, Accuracy: 4500/33000 (13.64%)\n",
      "\n",
      "EPOCH:  4\n"
     ]
    },
    {
     "name": "stderr",
     "output_type": "stream",
     "text": [
      "Loss=4.102937698364258 Batch_id=164 Accuracy=109.66: 100%|██████████| 165/165 [01:16<00:00,  2.15it/s] \n",
      "  0%|          | 0/165 [00:00<?, ?it/s]"
     ]
    },
    {
     "name": "stdout",
     "output_type": "stream",
     "text": [
      "\n",
      "Test Set: Average loss: -73044.61486816406, Accuracy: 5322/33000 (16.13%)\n",
      "\n",
      "EPOCH:  5\n"
     ]
    },
    {
     "name": "stderr",
     "output_type": "stream",
     "text": [
      "Loss=3.9420790672302246 Batch_id=164 Accuracy=112.02: 100%|██████████| 165/165 [01:16<00:00,  2.14it/s]\n",
      "  0%|          | 0/165 [00:00<?, ?it/s]"
     ]
    },
    {
     "name": "stdout",
     "output_type": "stream",
     "text": [
      "\n",
      "Test Set: Average loss: -83450.20251464844, Accuracy: 6140/33000 (18.61%)\n",
      "\n",
      "EPOCH:  6\n"
     ]
    },
    {
     "name": "stderr",
     "output_type": "stream",
     "text": [
      "Loss=3.7878987789154053 Batch_id=164 Accuracy=114.35: 100%|██████████| 165/165 [01:21<00:00,  2.03it/s]\n",
      "  0%|          | 0/165 [00:00<?, ?it/s]"
     ]
    },
    {
     "name": "stdout",
     "output_type": "stream",
     "text": [
      "\n",
      "Test Set: Average loss: -92711.42547607422, Accuracy: 6901/33000 (20.91%)\n",
      "\n",
      "EPOCH:  7\n"
     ]
    },
    {
     "name": "stderr",
     "output_type": "stream",
     "text": [
      "Loss=3.632505416870117 Batch_id=164 Accuracy=117.64: 100%|██████████| 165/165 [01:16<00:00,  2.14it/s] \n",
      "  0%|          | 0/165 [00:00<?, ?it/s]"
     ]
    },
    {
     "name": "stdout",
     "output_type": "stream",
     "text": [
      "\n",
      "Test Set: Average loss: -101499.12701416016, Accuracy: 7663/33000 (23.22%)\n",
      "\n",
      "EPOCH:  8\n"
     ]
    },
    {
     "name": "stderr",
     "output_type": "stream",
     "text": [
      "Loss=3.486995220184326 Batch_id=164 Accuracy=120.62: 100%|██████████| 165/165 [01:17<00:00,  2.13it/s] \n",
      "  0%|          | 0/165 [00:00<?, ?it/s]"
     ]
    },
    {
     "name": "stdout",
     "output_type": "stream",
     "text": [
      "\n",
      "Test Set: Average loss: -108981.6069946289, Accuracy: 8318/33000 (25.21%)\n",
      "\n",
      "EPOCH:  9\n"
     ]
    },
    {
     "name": "stderr",
     "output_type": "stream",
     "text": [
      "Loss=3.3178229331970215 Batch_id=164 Accuracy=123.79: 100%|██████████| 165/165 [01:17<00:00,  2.14it/s]\n",
      "  0%|          | 0/165 [00:00<?, ?it/s]"
     ]
    },
    {
     "name": "stdout",
     "output_type": "stream",
     "text": [
      "\n",
      "Test Set: Average loss: -120566.40222167969, Accuracy: 9656/33000 (29.26%)\n",
      "\n",
      "EPOCH:  10\n"
     ]
    },
    {
     "name": "stderr",
     "output_type": "stream",
     "text": [
      "Loss=3.136368751525879 Batch_id=164 Accuracy=127.68: 100%|██████████| 165/165 [01:17<00:00,  2.14it/s] \n",
      "  0%|          | 0/165 [00:00<?, ?it/s]"
     ]
    },
    {
     "name": "stdout",
     "output_type": "stream",
     "text": [
      "\n",
      "Test Set: Average loss: -130935.51568603516, Accuracy: 10710/33000 (32.45%)\n",
      "\n",
      "EPOCH:  11\n"
     ]
    },
    {
     "name": "stderr",
     "output_type": "stream",
     "text": [
      "Loss=2.9486193656921387 Batch_id=164 Accuracy=131.89: 100%|██████████| 165/165 [01:17<00:00,  2.13it/s]\n",
      "  0%|          | 0/165 [00:00<?, ?it/s]"
     ]
    },
    {
     "name": "stdout",
     "output_type": "stream",
     "text": [
      "\n",
      "Test Set: Average loss: -139277.9927368164, Accuracy: 11474/33000 (34.77%)\n",
      "\n",
      "EPOCH:  12\n"
     ]
    },
    {
     "name": "stderr",
     "output_type": "stream",
     "text": [
      "Loss=2.8289899826049805 Batch_id=164 Accuracy=135.43: 100%|██████████| 165/165 [01:21<00:00,  2.03it/s]\n",
      "  0%|          | 0/165 [00:00<?, ?it/s]"
     ]
    },
    {
     "name": "stdout",
     "output_type": "stream",
     "text": [
      "\n",
      "Test Set: Average loss: -144657.005859375, Accuracy: 11626/33000 (35.23%)\n",
      "\n",
      "EPOCH:  13\n"
     ]
    },
    {
     "name": "stderr",
     "output_type": "stream",
     "text": [
      "Loss=2.6850433349609375 Batch_id=164 Accuracy=137.92: 100%|██████████| 165/165 [01:19<00:00,  2.08it/s]\n",
      "  0%|          | 0/165 [00:00<?, ?it/s]"
     ]
    },
    {
     "name": "stdout",
     "output_type": "stream",
     "text": [
      "\n",
      "Test Set: Average loss: -155486.09942626953, Accuracy: 12878/33000 (39.02%)\n",
      "\n",
      "EPOCH:  14\n"
     ]
    },
    {
     "name": "stderr",
     "output_type": "stream",
     "text": [
      "Loss=2.5063345432281494 Batch_id=164 Accuracy=140.96: 100%|██████████| 165/165 [01:20<00:00,  2.04it/s]\n",
      "  0%|          | 0/165 [00:00<?, ?it/s]"
     ]
    },
    {
     "name": "stdout",
     "output_type": "stream",
     "text": [
      "\n",
      "Test Set: Average loss: -163722.98681640625, Accuracy: 14148/33000 (42.87%)\n",
      "\n",
      "EPOCH:  15\n"
     ]
    },
    {
     "name": "stderr",
     "output_type": "stream",
     "text": [
      "Loss=2.3223345279693604 Batch_id=164 Accuracy=145.97: 100%|██████████| 165/165 [01:21<00:00,  2.02it/s]\n",
      "  0%|          | 0/165 [00:00<?, ?it/s]"
     ]
    },
    {
     "name": "stdout",
     "output_type": "stream",
     "text": [
      "\n",
      "Test Set: Average loss: -171641.8145751953, Accuracy: 15003/33000 (45.46%)\n",
      "\n",
      "EPOCH:  16\n"
     ]
    },
    {
     "name": "stderr",
     "output_type": "stream",
     "text": [
      "Loss=2.1126914024353027 Batch_id=164 Accuracy=150.67: 100%|██████████| 165/165 [01:19<00:00,  2.07it/s]\n",
      "  0%|          | 0/165 [00:00<?, ?it/s]"
     ]
    },
    {
     "name": "stdout",
     "output_type": "stream",
     "text": [
      "\n",
      "Test Set: Average loss: -185732.0294189453, Accuracy: 16158/33000 (48.96%)\n",
      "\n",
      "EPOCH:  17\n"
     ]
    },
    {
     "name": "stderr",
     "output_type": "stream",
     "text": [
      "Loss=1.9954850673675537 Batch_id=164 Accuracy=154.98: 100%|██████████| 165/165 [01:18<00:00,  2.09it/s]\n",
      "  0%|          | 0/165 [00:00<?, ?it/s]"
     ]
    },
    {
     "name": "stdout",
     "output_type": "stream",
     "text": [
      "\n",
      "Test Set: Average loss: -194089.43115234375, Accuracy: 16695/33000 (50.59%)\n",
      "\n",
      "EPOCH:  18\n"
     ]
    },
    {
     "name": "stderr",
     "output_type": "stream",
     "text": [
      "Loss=1.7088959217071533 Batch_id=164 Accuracy=157.22: 100%|██████████| 165/165 [01:19<00:00,  2.08it/s]\n",
      "  0%|          | 0/165 [00:00<?, ?it/s]"
     ]
    },
    {
     "name": "stdout",
     "output_type": "stream",
     "text": [
      "\n",
      "Test Set: Average loss: -205445.9853515625, Accuracy: 17468/33000 (52.93%)\n",
      "\n",
      "EPOCH:  19\n"
     ]
    },
    {
     "name": "stderr",
     "output_type": "stream",
     "text": [
      "Loss=1.6002415418624878 Batch_id=164 Accuracy=161.92: 100%|██████████| 165/165 [01:18<00:00,  2.11it/s]\n",
      "  0%|          | 0/165 [00:00<?, ?it/s]"
     ]
    },
    {
     "name": "stdout",
     "output_type": "stream",
     "text": [
      "\n",
      "Test Set: Average loss: -224002.873046875, Accuracy: 19436/33000 (58.90%)\n",
      "\n",
      "EPOCH:  20\n"
     ]
    },
    {
     "name": "stderr",
     "output_type": "stream",
     "text": [
      "Loss=1.3188456296920776 Batch_id=164 Accuracy=167.83: 100%|██████████| 165/165 [01:20<00:00,  2.06it/s]\n",
      "  0%|          | 0/165 [00:00<?, ?it/s]"
     ]
    },
    {
     "name": "stdout",
     "output_type": "stream",
     "text": [
      "\n",
      "Test Set: Average loss: -241160.7218017578, Accuracy: 20683/33000 (62.68%)\n",
      "\n",
      "EPOCH:  21\n"
     ]
    },
    {
     "name": "stderr",
     "output_type": "stream",
     "text": [
      "Loss=1.0867537260055542 Batch_id=164 Accuracy=174.92: 100%|██████████| 165/165 [01:16<00:00,  2.16it/s]\n",
      "  0%|          | 0/165 [00:00<?, ?it/s]"
     ]
    },
    {
     "name": "stdout",
     "output_type": "stream",
     "text": [
      "\n",
      "Test Set: Average loss: -255286.17346191406, Accuracy: 22708/33000 (68.81%)\n",
      "\n",
      "EPOCH:  22\n"
     ]
    },
    {
     "name": "stderr",
     "output_type": "stream",
     "text": [
      "Loss=1.0139154195785522 Batch_id=164 Accuracy=179.38: 100%|██████████| 165/165 [01:17<00:00,  2.14it/s]\n",
      "  0%|          | 0/165 [00:00<?, ?it/s]"
     ]
    },
    {
     "name": "stdout",
     "output_type": "stream",
     "text": [
      "\n",
      "Test Set: Average loss: -266140.5233154297, Accuracy: 23605/33000 (71.53%)\n",
      "\n",
      "EPOCH:  23\n"
     ]
    },
    {
     "name": "stderr",
     "output_type": "stream",
     "text": [
      "Loss=0.8148192763328552 Batch_id=164 Accuracy=183.01: 100%|██████████| 165/165 [01:17<00:00,  2.14it/s]\n",
      "  0%|          | 0/165 [00:00<?, ?it/s]"
     ]
    },
    {
     "name": "stdout",
     "output_type": "stream",
     "text": [
      "\n",
      "Test Set: Average loss: -283291.98571777344, Accuracy: 25023/33000 (75.83%)\n",
      "\n",
      "EPOCH:  24\n"
     ]
    },
    {
     "name": "stderr",
     "output_type": "stream",
     "text": [
      "Loss=0.6072027683258057 Batch_id=164 Accuracy=186.78: 100%|██████████| 165/165 [01:19<00:00,  2.07it/s]\n"
     ]
    },
    {
     "name": "stdout",
     "output_type": "stream",
     "text": [
      "\n",
      "Test Set: Average loss: -302940.77392578125, Accuracy: 27068/33000 (82.02%)\n",
      "\n"
     ]
    }
   ],
   "source": [
    "from traintest import train, test\n",
    "import importlib\n",
    "importlib.reload(train)\n",
    "importlib.reload(test)\n",
    "import torch.optim as optim\n",
    "\n",
    "optimizer = optim.SGD(mymodel.parameters(), lr=0.001, momentum=0.9, weight_decay=0.0005)\n",
    "\n",
    "EPOCHS = 25\n",
    "for epoch in range(EPOCHS):  # loop over the dataset multiple times\n",
    "    print(\"EPOCH: \", epoch)\n",
    "    train.train(mymodel, device, testloader, epoch, optimizer)\n",
    "    #Save the model for future use.\n",
    "    torch.save({'epoch':epoch,\n",
    "                'model_state_dict': mymodel.state_dict(),\n",
    "               'optimizer_state_dict': optimizer.state_dict(),\n",
    "               }, 'training_a12_v2.pt')\n",
    "    test.test(mymodel, device, testloader, 'l1')"
   ]
  }
 ],
 "metadata": {
  "kernelspec": {
   "display_name": "Python 3",
   "language": "python",
   "name": "python3"
  },
  "language_info": {
   "codemirror_mode": {
    "name": "ipython",
    "version": 3
   },
   "file_extension": ".py",
   "mimetype": "text/x-python",
   "name": "python",
   "nbconvert_exporter": "python",
   "pygments_lexer": "ipython3",
   "version": "3.6.9"
  }
 },
 "nbformat": 4,
 "nbformat_minor": 4
}
